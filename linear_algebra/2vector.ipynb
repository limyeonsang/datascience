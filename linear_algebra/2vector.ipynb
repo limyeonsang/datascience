{
 "cells": [
  {
   "cell_type": "markdown",
   "id": "24d026f9",
   "metadata": {},
   "source": [
    "## Row Vector 행벡터란\n",
    "우리는 보통 말하는 벡터는 열벡터이다. 변화가 되는 대상을 열벡터로 보자고 관례적으로 잡은 것이다.   \n",
    "반면 행벡터는 열벡터에 대한 함수이다. 행벡터는 변화를 시키는 행위자이다.   \n",
    "예를 들어 [2,1]이라는 행벡터와 $[3,-4]^T$라는 열벡터의 곱셈에서\n",
    "$$[2\\  1]\\begin{bmatrix}3\\\\ -4\\end{bmatrix}=2*3+1*(-4)=2$$\n",
    "조금 달리 생각해보면 아래와 같이 함수의 표기로 생각해볼 수 있다. \n",
    "$$[2\\ 1]\\begin{pmatrix}\\begin{bmatrix}3\\\\ -4\\end{bmatrix}\\end{pmatrix}=2$$\n",
    "즉, 행벡터는 열벡터를 입력으로 받아 스칼라를 출력하는 $f: V\\rightarrow \\mathbb{R}$인 것이다. "
   ]
  },
  {
   "cell_type": "markdown",
   "id": "a86bbe8c",
   "metadata": {},
   "source": [
    "### Row Vector Visualization\n",
    "행벡터가 열벡터를 입력으로 받는 함수라면, 임의의 벡터 $[x\\ y]^T$에 대해 함수의 출력을 좌표계에 나열함으로 행벡터를 시각화할 수 있다. \n",
    "\n",
    "예를 들어 [2,1]이라는 행벡터를 시각화하기 위해선 임의의 벡터 $\\begin{bmatrix}x\\\\y\\end{bmatrix}$에 대해 함수의 출력을 좌표계에 나열한다. \n",
    "$$[2\\ 1]\\begin{pmatrix}\\begin{bmatrix}x\\\\ y\\end{bmatrix}\\end{pmatrix}=2x+y=c$$\n",
    "\n",
    "c=1이라면 $2x+y=1$에서 만족하는 x, y쌍을 나타내면 $y=-2x+1$이라는 선위에 모두 표시된다.   \n",
    "c=2라면 $2x+y=2$의 x, y쌍은 $y=-2x+2$라는 선 위에 모두 표시된다.   \n",
    "이렇게 모든 가능한 c값을 직선을 그어준다. \n",
    "<img src=\"https://raw.githubusercontent.com/angeloyeo/angeloyeo.github.io/master/pics/2020-09-09-row_vector_and_inner_product/pic5.png\" width=\"320\">\n",
    "> 위의 사진의 i,j는 기저 벡터이다. 기저 벡터란 n차원 공간에서 임의의 벡터를 표현할 수 있는 기준이 되는 벡터를 뜻한다.  \n",
    "\n",
    "따라서 위 사진의 1이 적혀있는 점선은 $y=-2x+1$인데, 이 선이 의미하는 바는 행벡터[2,1]이 [x.y]^T라는 열벡터를 받았을 때 출력값이 1이 된다는 것이다.\n",
    "<img src=\"https://raw.githubusercontent.com/angeloyeo/angeloyeo.github.io/master/pics/2020-09-09-row_vector_and_inner_product/pic6.png\" width=\"400\">"
   ]
  },
  {
   "cell_type": "markdown",
   "id": "bc6690da",
   "metadata": {},
   "source": [
    "## 벡터 내적의 기하학적 의미\n",
    "위의 사진을 통해 두 벡터 $\\vec{v}_1$, $\\vec{v}_2$에 대해서, 두 벡터의 사잇각이 $\\theta$라면, 벡터의 내적은 다음과 같이 계산된다. \n",
    "\n",
    "$$\\vec{v}_1*\\vec{v}_2=|\\vec{v}_1||\\vec{v}_2|cos\\theta$$\n",
    "여기서 $\\vec{v}_2|cos\\theta$은 $\\vec{v}_2$의 $\\vec{v}_1$ 방향으로서의 정사영이라는 의미이다. \n",
    "\n",
    "예를 들어 출력 스칼라 값이 4가 되게 하는 경우에, 출력 스칼라 값이 4가 되게 하는 임의의 벡터를 하나 그리면 아래와 같다. \n",
    "\n",
    "<img src=\"https://raw.githubusercontent.com/angeloyeo/angeloyeo.github.io/master/pics/2020-09-09-row_vector_and_inner_product/pic7.png\" width=\"320\">\n",
    "\n",
    "이제 행벡터에 해당하는 [2,1]을 그린 뒤(파란색), 2x+y=4라는 점까지의 거리(빨간색)를 구해보자. \n",
    "\n",
    "<img src=\"https://raw.githubusercontent.com/angeloyeo/angeloyeo.github.io/master/pics/2020-09-09-row_vector_and_inner_product/pic8.png\" width=\"320\">\n",
    "\n",
    "> 2x+y=c에 해당하는 점선은 모두 행벡터 [2,1]에 수직인데, 이는 핵벡터가 점선으로 표현한 함수들에 법선 벡터(직선과 수직인 벡터) 역할을 하기 때문이다. \n",
    "\n",
    "2x+y=4 점까지의 거리는 아래 사진의 직각 삼각형의 높이를 계산함으로써 얻을 수 있다.\n",
    "<img src=\"https://raw.githubusercontent.com/angeloyeo/angeloyeo.github.io/master/pics/2020-09-09-row_vector_and_inner_product/pic9.png\" width=\"320\">\n",
    "\n",
    "삼각형의 높이 d의 길이는 직각 삼각형의 넓이를 구하는 방법을 이용한다.  \n",
    "즉, $4*2=d*\\sqrt{20}$ 이므로, $d=\\frac{8}{\\sqrt{20}}=\\frac{4}{\\sqrt{5}}$ 이다.  \n",
    "여기서 행벡터 [2,1]의 길이는 $\\sqrt{5}$인데, 이 길이를 d에 곱하면 $d*\\sqrt{5}=\\frac{4}{\\sqrt{5}}*\\sqrt{5}=4$ 임을 알 수 있다. \n",
    "\n",
    "즉, 열벡터의 정사영 길이 * 행벡터의 길이 = 내적 값과 일차항을 알 수 있다.  \n"
   ]
  },
  {
   "cell_type": "code",
   "execution_count": null,
   "id": "8b007443",
   "metadata": {},
   "outputs": [],
   "source": []
  }
 ],
 "metadata": {
  "kernelspec": {
   "display_name": "Python 3",
   "language": "python",
   "name": "python3"
  },
  "language_info": {
   "codemirror_mode": {
    "name": "ipython",
    "version": 3
   },
   "file_extension": ".py",
   "mimetype": "text/x-python",
   "name": "python",
   "nbconvert_exporter": "python",
   "pygments_lexer": "ipython3",
   "version": "3.8.8"
  }
 },
 "nbformat": 4,
 "nbformat_minor": 5
}
