{
 "cells": [
  {
   "cell_type": "code",
   "execution_count": 1,
   "metadata": {},
   "outputs": [
    {
     "data": {
      "text/html": [
       "<div>\n",
       "<style scoped>\n",
       "    .dataframe tbody tr th:only-of-type {\n",
       "        vertical-align: middle;\n",
       "    }\n",
       "\n",
       "    .dataframe tbody tr th {\n",
       "        vertical-align: top;\n",
       "    }\n",
       "\n",
       "    .dataframe thead th {\n",
       "        text-align: right;\n",
       "    }\n",
       "</style>\n",
       "<table border=\"1\" class=\"dataframe\">\n",
       "  <thead>\n",
       "    <tr style=\"text-align: right;\">\n",
       "      <th></th>\n",
       "      <th>col1</th>\n",
       "      <th>col2</th>\n",
       "    </tr>\n",
       "  </thead>\n",
       "  <tbody>\n",
       "    <tr>\n",
       "      <th>0</th>\n",
       "      <td>13.0</td>\n",
       "      <td>1.730024</td>\n",
       "    </tr>\n",
       "    <tr>\n",
       "      <th>1</th>\n",
       "      <td>2.0</td>\n",
       "      <td>1.232650</td>\n",
       "    </tr>\n",
       "    <tr>\n",
       "      <th>2</th>\n",
       "      <td>2.0</td>\n",
       "      <td>-0.823598</td>\n",
       "    </tr>\n",
       "    <tr>\n",
       "      <th>3</th>\n",
       "      <td>6.0</td>\n",
       "      <td>-0.118201</td>\n",
       "    </tr>\n",
       "    <tr>\n",
       "      <th>4</th>\n",
       "      <td>17.0</td>\n",
       "      <td>-0.576103</td>\n",
       "    </tr>\n",
       "    <tr>\n",
       "      <th>5</th>\n",
       "      <td>19.0</td>\n",
       "      <td>1.695731</td>\n",
       "    </tr>\n",
       "    <tr>\n",
       "      <th>6</th>\n",
       "      <td>10.0</td>\n",
       "      <td>-0.074394</td>\n",
       "    </tr>\n",
       "    <tr>\n",
       "      <th>7</th>\n",
       "      <td>1.0</td>\n",
       "      <td>-1.900637</td>\n",
       "    </tr>\n",
       "    <tr>\n",
       "      <th>8</th>\n",
       "      <td>0.0</td>\n",
       "      <td>-0.777655</td>\n",
       "    </tr>\n",
       "    <tr>\n",
       "      <th>9</th>\n",
       "      <td>17.0</td>\n",
       "      <td>1.313462</td>\n",
       "    </tr>\n",
       "    <tr>\n",
       "      <th>10</th>\n",
       "      <td>15.0</td>\n",
       "      <td>1.804458</td>\n",
       "    </tr>\n",
       "    <tr>\n",
       "      <th>11</th>\n",
       "      <td>9.0</td>\n",
       "      <td>-0.965550</td>\n",
       "    </tr>\n",
       "    <tr>\n",
       "      <th>12</th>\n",
       "      <td>0.0</td>\n",
       "      <td>-1.316480</td>\n",
       "    </tr>\n",
       "    <tr>\n",
       "      <th>13</th>\n",
       "      <td>14.0</td>\n",
       "      <td>-0.625785</td>\n",
       "    </tr>\n",
       "    <tr>\n",
       "      <th>14</th>\n",
       "      <td>0.0</td>\n",
       "      <td>-0.326946</td>\n",
       "    </tr>\n",
       "    <tr>\n",
       "      <th>15</th>\n",
       "      <td>15.0</td>\n",
       "      <td>-0.308209</td>\n",
       "    </tr>\n",
       "    <tr>\n",
       "      <th>16</th>\n",
       "      <td>19.0</td>\n",
       "      <td>0.827117</td>\n",
       "    </tr>\n",
       "    <tr>\n",
       "      <th>17</th>\n",
       "      <td>14.0</td>\n",
       "      <td>1.070781</td>\n",
       "    </tr>\n",
       "    <tr>\n",
       "      <th>18</th>\n",
       "      <td>4.0</td>\n",
       "      <td>-3.055577</td>\n",
       "    </tr>\n",
       "    <tr>\n",
       "      <th>19</th>\n",
       "      <td>0.0</td>\n",
       "      <td>1.005932</td>\n",
       "    </tr>\n",
       "    <tr>\n",
       "      <th>20</th>\n",
       "      <td>50.0</td>\n",
       "      <td>5.124500</td>\n",
       "    </tr>\n",
       "  </tbody>\n",
       "</table>\n",
       "</div>"
      ],
      "text/plain": [
       "    col1      col2\n",
       "0   13.0  1.730024\n",
       "1    2.0  1.232650\n",
       "2    2.0 -0.823598\n",
       "3    6.0 -0.118201\n",
       "4   17.0 -0.576103\n",
       "5   19.0  1.695731\n",
       "6   10.0 -0.074394\n",
       "7    1.0 -1.900637\n",
       "8    0.0 -0.777655\n",
       "9   17.0  1.313462\n",
       "10  15.0  1.804458\n",
       "11   9.0 -0.965550\n",
       "12   0.0 -1.316480\n",
       "13  14.0 -0.625785\n",
       "14   0.0 -0.326946\n",
       "15  15.0 -0.308209\n",
       "16  19.0  0.827117\n",
       "17  14.0  1.070781\n",
       "18   4.0 -3.055577\n",
       "19   0.0  1.005932\n",
       "20  50.0  5.124500"
      ]
     },
     "execution_count": 1,
     "metadata": {},
     "output_type": "execute_result"
    }
   ],
   "source": [
    "import numpy as np\n",
    "import pandas as pd\n",
    "\n",
    "np.random.seed(123)\n",
    "\n",
    "df = pd.DataFrame({'col1': np.random.randint(20, size=20), \n",
    "                   'col2': np.random.randn(20)})\n",
    "\n",
    "df=df.append({'col1' : 50 ,  'col2' : 5.1245} , ignore_index=True) # outlier들을 추가한다. \n",
    "\n",
    "df"
   ]
  },
  {
   "cell_type": "markdown",
   "metadata": {},
   "source": [
    "## 1-4.데이터 분포 탐색\n",
    "### 1-4-1.백분위수와 boxplot"
   ]
  },
  {
   "cell_type": "code",
   "execution_count": 36,
   "metadata": {},
   "outputs": [
    {
     "data": {
      "text/plain": [
       "0.05     0.0\n",
       "0.25     2.0\n",
       "0.50    10.0\n",
       "0.75    15.0\n",
       "0.95    19.0\n",
       "Name: col1, dtype: float64"
      ]
     },
     "execution_count": 36,
     "metadata": {},
     "output_type": "execute_result"
    }
   ],
   "source": [
    "import numpy as np\n",
    "\n",
    "df['col1'].quantile([0.05, 0.25, 0.5, 0.75, 0.95])"
   ]
  },
  {
   "cell_type": "markdown",
   "metadata": {},
   "source": [
    "5% 백분위수는 0인 반면 95% 백분위수는 19에 달하는 등 변동폭이 있으며, 중간값은 10이다.  \n",
    "추가했던 특잇값에 영향을 받지 않았다. "
   ]
  },
  {
   "cell_type": "code",
   "execution_count": 51,
   "metadata": {},
   "outputs": [
    {
     "data": {
      "image/png": "[encoded data removed]",
      "text/plain": [
       "<Figure size 432x288 with 1 Axes>"
      ]
     },
     "metadata": {
      "needs_background": "light"
     },
     "output_type": "display_data"
    }
   ],
   "source": [
    "# box plot\n",
    "import matplotlib.pyplot as plt\n",
    "\n",
    "ax = (df['col1']).plot.box()"
   ]
  },
  {
   "cell_type": "markdown",
   "metadata": {},
   "source": [
    "위의 boxplot에서 중간값이 약 10이고(굵은 수평선), 데이터의 절반이 약 2.5~15사이이며(상자의 위쪽과 아래쪽), 이상치(50)를 한눈에 알 수 있다. 점섬은 whisker라 부르며 데이터 전체 범위를 나타내주는 위아래 선들과 연결되어 있다. "
   ]
  },
  {
   "cell_type": "markdown",
   "metadata": {},
   "source": [
    "### 1-4-2.도수분표포와 히스토그램"
   ]
  },
  {
   "cell_type": "code",
   "execution_count": 55,
   "metadata": {},
   "outputs": [
    {
     "data": {
      "text/plain": [
       "(-0.05, 4.545]      8\n",
       "(13.636, 18.182]    6\n",
       "(4.545, 9.091]      2\n",
       "(9.091, 13.636]     2\n",
       "(18.182, 22.727]    2\n",
       "(45.455, 50.0]      1\n",
       "(22.727, 27.273]    0\n",
       "(27.273, 31.818]    0\n",
       "(31.818, 36.364]    0\n",
       "(36.364, 40.909]    0\n",
       "(40.909, 45.455]    0\n",
       "Name: col1, dtype: int64"
      ]
     },
     "execution_count": 55,
     "metadata": {},
     "output_type": "execute_result"
    }
   ],
   "source": [
    "import pandas as pd\n",
    "\n",
    "binnedPopulation = pd.cut(df['col1'], 10)\n",
    "binnedPopulation.value_counts()"
   ]
  },
  {
   "cell_type": "code",
   "execution_count": 57,
   "metadata": {},
   "outputs": [
    {
     "name": "stdout",
     "output_type": "stream",
     "text": [
      "0.0 50.0\n"
     ]
    }
   ],
   "source": [
    "print(df['col1'].min(), df['col1'].max())\n"
   ]
  },
  {
   "cell_type": "markdown",
   "metadata": {},
   "source": [
    "col1 컬럼에서 가장 작은 값은 0, 가장 큰 값은 50이다. 이를 통해 범위가 50-0=50이라는 것을 알 수 있다. 이를 균일한 크기로 10개로 나누려면 각 구간의 크기가 5가 되어야 한다.  \n",
    "구간의 범위가 너무 크면, 분포를 나타내는 중요한 특징을 놓칠 수 있다. 반대로 너무 작아도, 결과가 너무 쪼개져 있어 더 큰 그림을 볼 수 없다. "
   ]
  },
  {
   "cell_type": "markdown",
   "metadata": {},
   "source": [
    "히스토그램은 도수분포표를 시각화하는 방법이다. x축엔 구간들을, y축엔 해당 구간별 데이터의 개수를 표시한다. "
   ]
  },
  {
   "cell_type": "code",
   "execution_count": 60,
   "metadata": {},
   "outputs": [
    {
     "data": {
      "image/png": "[encoded data removed]",
      "text/plain": [
       "<Figure size 432x288 with 1 Axes>"
      ]
     },
     "metadata": {
      "needs_background": "light"
     },
     "output_type": "display_data"
    }
   ],
   "source": [
    "import matplotlib.pyplot as plt\n",
    "\n",
    "ax = (df['col1']).plot.hist(color='#FF4455') # hist의 키워드 인수 bins를 사용해 구간의 개수를 정의할 수 있다. "
   ]
  },
  {
   "cell_type": "markdown",
   "metadata": {},
   "source": [
    "> 통계학 이론에서, 위치와 변이는 각각 분포의 일,이차 모멘트(적률)라고 한다. 삼차, 사차 모멘트는 각각 왜도skewness, 첨도kurtosis라고 부른다. 왜도는 데이터가 큰 값이나 작은 값 쪽으로 얼마나 비스듬히 쏠려 있는지를 나타내고, 첨도는 데이터가 극단 값을 갖는 경향성을 나타낸다."
   ]
  },
  {
   "cell_type": "markdown",
   "metadata": {},
   "source": [
    "### 1-4-3.밀도 그림과 추정\n",
    "커널밀도추정을 통해 데이터로부터 직접 계산한다. "
   ]
  },
  {
   "cell_type": "code",
   "execution_count": 84,
   "metadata": {},
   "outputs": [
    {
     "data": {
      "text/plain": [
       "<AxesSubplot:ylabel='Density'>"
      ]
     },
     "execution_count": 84,
     "metadata": {},
     "output_type": "execute_result"
    },
    {
     "data": {
      "image/png": "[encoded data removed]",
      "text/plain": [
       "<Figure size 432x288 with 1 Axes>"
      ]
     },
     "metadata": {
      "needs_background": "light"
     },
     "output_type": "display_data"
    }
   ],
   "source": [
    "ax = (df['col2']).plot.hist(density=True, color='#FF4455') #, xlim=[0,20], bins=range(0,20),)\n",
    "df['col2'].plot.density(ax=ax)"
   ]
  },
  {
   "cell_type": "markdown",
   "metadata": {},
   "source": [
    "히스토그램과의 가장 큰 차이는 y축 값의 단위이다. 밀도 그림에선 개수가 아닌 비율을 표시한다. 밀도 곡선 아래의 총면적은 1이고 구간의 개수 대신 x축의 두 점 사이의 곡선 아래 면적을 계산하며, 이는 두 점 사이에 있는 분포의 비율에 해당한다. "
   ]
  },
  {
   "cell_type": "markdown",
   "metadata": {},
   "source": [
    "## 1-6.상관관계"
   ]
  },
  {
   "cell_type": "code",
   "execution_count": 7,
   "metadata": {},
   "outputs": [
    {
     "data": {
      "text/html": [
       "<div>\n",
       "<style scoped>\n",
       "    .dataframe tbody tr th:only-of-type {\n",
       "        vertical-align: middle;\n",
       "    }\n",
       "\n",
       "    .dataframe tbody tr th {\n",
       "        vertical-align: top;\n",
       "    }\n",
       "\n",
       "    .dataframe thead th {\n",
       "        text-align: right;\n",
       "    }\n",
       "</style>\n",
       "<table border=\"1\" class=\"dataframe\">\n",
       "  <thead>\n",
       "    <tr style=\"text-align: right;\">\n",
       "      <th></th>\n",
       "      <th>col1</th>\n",
       "      <th>col2</th>\n",
       "      <th>col3</th>\n",
       "    </tr>\n",
       "  </thead>\n",
       "  <tbody>\n",
       "    <tr>\n",
       "      <th>0</th>\n",
       "      <td>-0.869044</td>\n",
       "      <td>0.523320</td>\n",
       "      <td>0.088379</td>\n",
       "    </tr>\n",
       "    <tr>\n",
       "      <th>1</th>\n",
       "      <td>2.398402</td>\n",
       "      <td>-0.931956</td>\n",
       "      <td>-1.338411</td>\n",
       "    </tr>\n",
       "    <tr>\n",
       "      <th>2</th>\n",
       "      <td>-1.001390</td>\n",
       "      <td>2.266338</td>\n",
       "      <td>-1.968150</td>\n",
       "    </tr>\n",
       "    <tr>\n",
       "      <th>3</th>\n",
       "      <td>1.602473</td>\n",
       "      <td>0.539784</td>\n",
       "      <td>-0.218138</td>\n",
       "    </tr>\n",
       "    <tr>\n",
       "      <th>4</th>\n",
       "      <td>1.498786</td>\n",
       "      <td>-0.091474</td>\n",
       "      <td>0.206562</td>\n",
       "    </tr>\n",
       "    <tr>\n",
       "      <th>5</th>\n",
       "      <td>0.525211</td>\n",
       "      <td>-1.991864</td>\n",
       "      <td>-0.856458</td>\n",
       "    </tr>\n",
       "    <tr>\n",
       "      <th>6</th>\n",
       "      <td>0.831080</td>\n",
       "      <td>-0.241881</td>\n",
       "      <td>0.596262</td>\n",
       "    </tr>\n",
       "    <tr>\n",
       "      <th>7</th>\n",
       "      <td>0.022368</td>\n",
       "      <td>0.210780</td>\n",
       "      <td>-1.439107</td>\n",
       "    </tr>\n",
       "    <tr>\n",
       "      <th>8</th>\n",
       "      <td>-0.069009</td>\n",
       "      <td>-0.145566</td>\n",
       "      <td>0.627442</td>\n",
       "    </tr>\n",
       "    <tr>\n",
       "      <th>9</th>\n",
       "      <td>-1.933373</td>\n",
       "      <td>-1.024901</td>\n",
       "      <td>-0.307774</td>\n",
       "    </tr>\n",
       "    <tr>\n",
       "      <th>10</th>\n",
       "      <td>-0.592466</td>\n",
       "      <td>-1.757400</td>\n",
       "      <td>1.654477</td>\n",
       "    </tr>\n",
       "    <tr>\n",
       "      <th>11</th>\n",
       "      <td>-0.944294</td>\n",
       "      <td>-1.249110</td>\n",
       "      <td>0.638576</td>\n",
       "    </tr>\n",
       "    <tr>\n",
       "      <th>12</th>\n",
       "      <td>1.301994</td>\n",
       "      <td>1.058280</td>\n",
       "      <td>0.345144</td>\n",
       "    </tr>\n",
       "    <tr>\n",
       "      <th>13</th>\n",
       "      <td>-1.130536</td>\n",
       "      <td>-0.541819</td>\n",
       "      <td>0.141896</td>\n",
       "    </tr>\n",
       "    <tr>\n",
       "      <th>14</th>\n",
       "      <td>1.656255</td>\n",
       "      <td>2.571775</td>\n",
       "      <td>1.075287</td>\n",
       "    </tr>\n",
       "    <tr>\n",
       "      <th>15</th>\n",
       "      <td>1.098565</td>\n",
       "      <td>1.347616</td>\n",
       "      <td>-2.015380</td>\n",
       "    </tr>\n",
       "    <tr>\n",
       "      <th>16</th>\n",
       "      <td>0.236945</td>\n",
       "      <td>0.258946</td>\n",
       "      <td>0.214884</td>\n",
       "    </tr>\n",
       "    <tr>\n",
       "      <th>17</th>\n",
       "      <td>1.647150</td>\n",
       "      <td>-0.348282</td>\n",
       "      <td>-1.050826</td>\n",
       "    </tr>\n",
       "    <tr>\n",
       "      <th>18</th>\n",
       "      <td>-0.009658</td>\n",
       "      <td>-0.780482</td>\n",
       "      <td>1.894676</td>\n",
       "    </tr>\n",
       "    <tr>\n",
       "      <th>19</th>\n",
       "      <td>-0.992432</td>\n",
       "      <td>-0.120759</td>\n",
       "      <td>1.105101</td>\n",
       "    </tr>\n",
       "  </tbody>\n",
       "</table>\n",
       "</div>"
      ],
      "text/plain": [
       "        col1      col2      col3\n",
       "0  -0.869044  0.523320  0.088379\n",
       "1   2.398402 -0.931956 -1.338411\n",
       "2  -1.001390  2.266338 -1.968150\n",
       "3   1.602473  0.539784 -0.218138\n",
       "4   1.498786 -0.091474  0.206562\n",
       "5   0.525211 -1.991864 -0.856458\n",
       "6   0.831080 -0.241881  0.596262\n",
       "7   0.022368  0.210780 -1.439107\n",
       "8  -0.069009 -0.145566  0.627442\n",
       "9  -1.933373 -1.024901 -0.307774\n",
       "10 -0.592466 -1.757400  1.654477\n",
       "11 -0.944294 -1.249110  0.638576\n",
       "12  1.301994  1.058280  0.345144\n",
       "13 -1.130536 -0.541819  0.141896\n",
       "14  1.656255  2.571775  1.075287\n",
       "15  1.098565  1.347616 -2.015380\n",
       "16  0.236945  0.258946  0.214884\n",
       "17  1.647150 -0.348282 -1.050826\n",
       "18 -0.009658 -0.780482  1.894676\n",
       "19 -0.992432 -0.120759  1.105101"
      ]
     },
     "execution_count": 7,
     "metadata": {},
     "output_type": "execute_result"
    }
   ],
   "source": [
    "import pandas as pd\n",
    "\n",
    "df = pd.DataFrame({'col1': np.random.randn(20), \n",
    "                   'col2': np.random.randn(20),\n",
    "                   'col3':np.random.randn(20)})\n",
    "\n",
    "df"
   ]
  },
  {
   "cell_type": "code",
   "execution_count": 8,
   "metadata": {},
   "outputs": [
    {
     "data": {
      "text/html": [
       "<div>\n",
       "<style scoped>\n",
       "    .dataframe tbody tr th:only-of-type {\n",
       "        vertical-align: middle;\n",
       "    }\n",
       "\n",
       "    .dataframe tbody tr th {\n",
       "        vertical-align: top;\n",
       "    }\n",
       "\n",
       "    .dataframe thead th {\n",
       "        text-align: right;\n",
       "    }\n",
       "</style>\n",
       "<table border=\"1\" class=\"dataframe\">\n",
       "  <thead>\n",
       "    <tr style=\"text-align: right;\">\n",
       "      <th></th>\n",
       "      <th>col1</th>\n",
       "      <th>col2</th>\n",
       "      <th>col3</th>\n",
       "    </tr>\n",
       "  </thead>\n",
       "  <tbody>\n",
       "    <tr>\n",
       "      <th>col1</th>\n",
       "      <td>1.000000</td>\n",
       "      <td>0.227288</td>\n",
       "      <td>-0.200962</td>\n",
       "    </tr>\n",
       "    <tr>\n",
       "      <th>col2</th>\n",
       "      <td>0.227288</td>\n",
       "      <td>1.000000</td>\n",
       "      <td>-0.251809</td>\n",
       "    </tr>\n",
       "    <tr>\n",
       "      <th>col3</th>\n",
       "      <td>-0.200962</td>\n",
       "      <td>-0.251809</td>\n",
       "      <td>1.000000</td>\n",
       "    </tr>\n",
       "  </tbody>\n",
       "</table>\n",
       "</div>"
      ],
      "text/plain": [
       "          col1      col2      col3\n",
       "col1  1.000000  0.227288 -0.200962\n",
       "col2  0.227288  1.000000 -0.251809\n",
       "col3 -0.200962 -0.251809  1.000000"
      ]
     },
     "execution_count": 8,
     "metadata": {},
     "output_type": "execute_result"
    }
   ],
   "source": [
    "df.corr()"
   ]
  },
  {
   "cell_type": "code",
   "execution_count": 9,
   "metadata": {},
   "outputs": [
    {
     "data": {
      "text/plain": [
       "<AxesSubplot:>"
      ]
     },
     "execution_count": 9,
     "metadata": {},
     "output_type": "execute_result"
    },
    {
     "data": {
      "image/png": "[encoded data removed]",
      "text/plain": [
       "<Figure size 432x288 with 2 Axes>"
      ]
     },
     "metadata": {
      "needs_background": "light"
     },
     "output_type": "display_data"
    }
   ],
   "source": [
    "import seaborn as sns\n",
    "\n",
    "sns.heatmap(df.corr(), vmin=1, cmap=sns.diverging_palette(20,220, as_cmap=True))"
   ]
  }
 ],
 "metadata": {
  "interpreter": {
   "hash": "7bcc2250d2c768ac5e86847e4dcc0c989ec66ae9cbfbad130057c86246b226f2"
  },
  "kernelspec": {
   "display_name": "Python 3.8.8 64-bit ('ds': conda)",
   "name": "python3"
  },
  "language_info": {
   "codemirror_mode": {
    "name": "ipython",
    "version": 3
   },
   "file_extension": ".py",
   "mimetype": "text/x-python",
   "name": "python",
   "nbconvert_exporter": "python",
   "pygments_lexer": "ipython3",
   "version": "3.8.8"
  },
  "orig_nbformat": 4
 },
 "nbformat": 4,
 "nbformat_minor": 2
}
