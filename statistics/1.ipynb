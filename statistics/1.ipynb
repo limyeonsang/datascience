{
 "cells": [
  {
   "cell_type": "code",
   "execution_count": 40,
   "source": [
    "import numpy as np\r\n",
    "import pandas as pd\r\n",
    "\r\n",
    "np.random.seed(123)\r\n",
    "\r\n",
    "df = pd.DataFrame({'col1': np.random.randint(20, size=20), \r\n",
    "                   'col2': np.random.randn(20)})\r\n",
    "\r\n",
    "df=df.append({'col1' : 50 ,  'col2' : 5.1245} , ignore_index=True) # outlier들을 추가한다. \r\n",
    "\r\n",
    "df"
   ],
   "outputs": [
    {
     "output_type": "execute_result",
     "data": {
      "text/html": [
       "<div>\n",
       "<style scoped>\n",
       "    .dataframe tbody tr th:only-of-type {\n",
       "        vertical-align: middle;\n",
       "    }\n",
       "\n",
       "    .dataframe tbody tr th {\n",
       "        vertical-align: top;\n",
       "    }\n",
       "\n",
       "    .dataframe thead th {\n",
       "        text-align: right;\n",
       "    }\n",
       "</style>\n",
       "<table border=\"1\" class=\"dataframe\">\n",
       "  <thead>\n",
       "    <tr style=\"text-align: right;\">\n",
       "      <th></th>\n",
       "      <th>col1</th>\n",
       "      <th>col2</th>\n",
       "    </tr>\n",
       "  </thead>\n",
       "  <tbody>\n",
       "    <tr>\n",
       "      <th>0</th>\n",
       "      <td>13.0</td>\n",
       "      <td>1.730024</td>\n",
       "    </tr>\n",
       "    <tr>\n",
       "      <th>1</th>\n",
       "      <td>2.0</td>\n",
       "      <td>1.232650</td>\n",
       "    </tr>\n",
       "    <tr>\n",
       "      <th>2</th>\n",
       "      <td>2.0</td>\n",
       "      <td>-0.823598</td>\n",
       "    </tr>\n",
       "    <tr>\n",
       "      <th>3</th>\n",
       "      <td>6.0</td>\n",
       "      <td>-0.118201</td>\n",
       "    </tr>\n",
       "    <tr>\n",
       "      <th>4</th>\n",
       "      <td>17.0</td>\n",
       "      <td>-0.576103</td>\n",
       "    </tr>\n",
       "    <tr>\n",
       "      <th>5</th>\n",
       "      <td>19.0</td>\n",
       "      <td>1.695731</td>\n",
       "    </tr>\n",
       "    <tr>\n",
       "      <th>6</th>\n",
       "      <td>10.0</td>\n",
       "      <td>-0.074394</td>\n",
       "    </tr>\n",
       "    <tr>\n",
       "      <th>7</th>\n",
       "      <td>1.0</td>\n",
       "      <td>-1.900637</td>\n",
       "    </tr>\n",
       "    <tr>\n",
       "      <th>8</th>\n",
       "      <td>0.0</td>\n",
       "      <td>-0.777655</td>\n",
       "    </tr>\n",
       "    <tr>\n",
       "      <th>9</th>\n",
       "      <td>17.0</td>\n",
       "      <td>1.313462</td>\n",
       "    </tr>\n",
       "    <tr>\n",
       "      <th>10</th>\n",
       "      <td>15.0</td>\n",
       "      <td>1.804458</td>\n",
       "    </tr>\n",
       "    <tr>\n",
       "      <th>11</th>\n",
       "      <td>9.0</td>\n",
       "      <td>-0.965550</td>\n",
       "    </tr>\n",
       "    <tr>\n",
       "      <th>12</th>\n",
       "      <td>0.0</td>\n",
       "      <td>-1.316480</td>\n",
       "    </tr>\n",
       "    <tr>\n",
       "      <th>13</th>\n",
       "      <td>14.0</td>\n",
       "      <td>-0.625785</td>\n",
       "    </tr>\n",
       "    <tr>\n",
       "      <th>14</th>\n",
       "      <td>0.0</td>\n",
       "      <td>-0.326946</td>\n",
       "    </tr>\n",
       "    <tr>\n",
       "      <th>15</th>\n",
       "      <td>15.0</td>\n",
       "      <td>-0.308209</td>\n",
       "    </tr>\n",
       "    <tr>\n",
       "      <th>16</th>\n",
       "      <td>19.0</td>\n",
       "      <td>0.827117</td>\n",
       "    </tr>\n",
       "    <tr>\n",
       "      <th>17</th>\n",
       "      <td>14.0</td>\n",
       "      <td>1.070781</td>\n",
       "    </tr>\n",
       "    <tr>\n",
       "      <th>18</th>\n",
       "      <td>4.0</td>\n",
       "      <td>-3.055577</td>\n",
       "    </tr>\n",
       "    <tr>\n",
       "      <th>19</th>\n",
       "      <td>0.0</td>\n",
       "      <td>1.005932</td>\n",
       "    </tr>\n",
       "    <tr>\n",
       "      <th>20</th>\n",
       "      <td>50.0</td>\n",
       "      <td>5.124500</td>\n",
       "    </tr>\n",
       "  </tbody>\n",
       "</table>\n",
       "</div>"
      ],
      "text/plain": [
       "    col1      col2\n",
       "0   13.0  1.730024\n",
       "1    2.0  1.232650\n",
       "2    2.0 -0.823598\n",
       "3    6.0 -0.118201\n",
       "4   17.0 -0.576103\n",
       "5   19.0  1.695731\n",
       "6   10.0 -0.074394\n",
       "7    1.0 -1.900637\n",
       "8    0.0 -0.777655\n",
       "9   17.0  1.313462\n",
       "10  15.0  1.804458\n",
       "11   9.0 -0.965550\n",
       "12   0.0 -1.316480\n",
       "13  14.0 -0.625785\n",
       "14   0.0 -0.326946\n",
       "15  15.0 -0.308209\n",
       "16  19.0  0.827117\n",
       "17  14.0  1.070781\n",
       "18   4.0 -3.055577\n",
       "19   0.0  1.005932\n",
       "20  50.0  5.124500"
      ]
     },
     "metadata": {},
     "execution_count": 40
    }
   ],
   "metadata": {}
  },
  {
   "cell_type": "markdown",
   "source": [
    "## 1-4.데이터 분포 탐색\r\n",
    "### 1-4-1.백분위수와 boxplot"
   ],
   "metadata": {}
  },
  {
   "cell_type": "code",
   "execution_count": 36,
   "source": [
    "import numpy as np\r\n",
    "\r\n",
    "df['col1'].quantile([0.05, 0.25, 0.5, 0.75, 0.95])"
   ],
   "outputs": [
    {
     "output_type": "execute_result",
     "data": {
      "text/plain": [
       "0.05     0.0\n",
       "0.25     2.0\n",
       "0.50    10.0\n",
       "0.75    15.0\n",
       "0.95    19.0\n",
       "Name: col1, dtype: float64"
      ]
     },
     "metadata": {},
     "execution_count": 36
    }
   ],
   "metadata": {}
  },
  {
   "cell_type": "markdown",
   "source": [
    "5% 백분위수는 0인 반면 95% 백분위수는 19에 달하는 등 변동폭이 있으며, 중간값은 10이다.  \r\n",
    "추가했던 특잇값에 영향을 받지 않았다. "
   ],
   "metadata": {}
  },
  {
   "cell_type": "code",
   "execution_count": 51,
   "source": [
    "# box plot\r\n",
    "import matplotlib.pyplot as plt\r\n",
    "\r\n",
    "ax = (df['col1']).plot.box()"
   ],
   "outputs": [
    {
     "output_type": "display_data",
     "data": {
      "image/png": "[encoded data removed]",
      "text/plain": [
       "<Figure size 432x288 with 1 Axes>"
      ]
     },
     "metadata": {
      "needs_background": "light"
     }
    }
   ],
   "metadata": {}
  },
  {
   "cell_type": "markdown",
   "source": [
    "위의 boxplot에서 중간값이 약 10이고(굵은 수평선), 데이터의 절반이 약 2.5~15사이이며(상자의 위쪽과 아래쪽), 이상치(50)를 한눈에 알 수 있다. 점섬은 whisker라 부르며 데이터 전체 범위를 나타내주는 위아래 선들과 연결되어 있다. "
   ],
   "metadata": {}
  },
  {
   "cell_type": "markdown",
   "source": [
    "### 1-4-2.도수분표포와 히스토그램"
   ],
   "metadata": {}
  },
  {
   "cell_type": "code",
   "execution_count": 55,
   "source": [
    "import pandas as pd\r\n",
    "\r\n",
    "binnedPopulation = pd.cut(df['col1'], 10)\r\n",
    "binnedPopulation.value_counts()"
   ],
   "outputs": [
    {
     "output_type": "execute_result",
     "data": {
      "text/plain": [
       "(-0.05, 4.545]      8\n",
       "(13.636, 18.182]    6\n",
       "(4.545, 9.091]      2\n",
       "(9.091, 13.636]     2\n",
       "(18.182, 22.727]    2\n",
       "(45.455, 50.0]      1\n",
       "(22.727, 27.273]    0\n",
       "(27.273, 31.818]    0\n",
       "(31.818, 36.364]    0\n",
       "(36.364, 40.909]    0\n",
       "(40.909, 45.455]    0\n",
       "Name: col1, dtype: int64"
      ]
     },
     "metadata": {},
     "execution_count": 55
    }
   ],
   "metadata": {}
  },
  {
   "cell_type": "code",
   "execution_count": 57,
   "source": [
    "print(df['col1'].min(), df['col1'].max())\r\n"
   ],
   "outputs": [
    {
     "output_type": "stream",
     "name": "stdout",
     "text": [
      "0.0 50.0\n"
     ]
    }
   ],
   "metadata": {}
  },
  {
   "cell_type": "markdown",
   "source": [
    "col1 컬럼에서 가장 작은 값은 0, 가장 큰 값은 50이다. 이를 통해 범위가 50-0=50이라는 것을 알 수 있다. 이를 균일한 크기로 10개로 나누려면 각 구간의 크기가 5가 되어야 한다.  \r\n",
    "구간의 범위가 너무 크면, 분포를 나타내는 중요한 특징을 놓칠 수 있다. 반대로 너무 작아도, 결과가 너무 쪼개져 있어 더 큰 그림을 볼 수 없다. "
   ],
   "metadata": {}
  },
  {
   "cell_type": "markdown",
   "source": [
    "히스토그램은 도수분포표를 시각화하는 방법이다. x축엔 구간들을, y축엔 해당 구간별 데이터의 개수를 표시한다. "
   ],
   "metadata": {}
  },
  {
   "cell_type": "code",
   "execution_count": 60,
   "source": [
    "import matplotlib.pyplot as plt\r\n",
    "\r\n",
    "ax = (df['col1']).plot.hist(color='#FF4455') # hist의 키워드 인수 bins를 사용해 구간의 개수를 정의할 수 있다. "
   ],
   "outputs": [
    {
     "output_type": "display_data",
     "data": {
      "image/png": "[encoded data removed]",
      "text/plain": [
       "<Figure size 432x288 with 1 Axes>"
      ]
     },
     "metadata": {
      "needs_background": "light"
     }
    }
   ],
   "metadata": {}
  },
  {
   "cell_type": "markdown",
   "source": [
    "> 통계학 이론에서, 위치와 변이는 각각 분포의 일,이차 모멘트(적률)라고 한다. 삼차, 사차 모멘트는 각각 왜도skewness, 첨도kurtosis라고 부른다. 왜도는 데이터가 큰 값이나 작은 값 쪽으로 얼마나 비스듬히 쏠려 있는지를 나타내고, 첨도는 데이터가 극단 값을 갖는 경향성을 나타낸다."
   ],
   "metadata": {}
  },
  {
   "cell_type": "markdown",
   "source": [
    "### 1-4-3.밀도 그림과 추정\r\n",
    "커널밀도추정을 통해 데이터로부터 직접 계산한다. "
   ],
   "metadata": {}
  },
  {
   "cell_type": "code",
   "execution_count": 84,
   "source": [
    "ax = (df['col2']).plot.hist(density=True, color='#FF4455') #, xlim=[0,20], bins=range(0,20),)\r\n",
    "df['col2'].plot.density(ax=ax)"
   ],
   "outputs": [
    {
     "output_type": "execute_result",
     "data": {
      "text/plain": [
       "<AxesSubplot:ylabel='Density'>"
      ]
     },
     "metadata": {},
     "execution_count": 84
    },
    {
     "output_type": "display_data",
     "data": {
      "image/png": "[encoded data removed]",
      "text/plain": [
       "<Figure size 432x288 with 1 Axes>"
      ]
     },
     "metadata": {
      "needs_background": "light"
     }
    }
   ],
   "metadata": {}
  },
  {
   "cell_type": "markdown",
   "source": [
    "히스토그램과의 가장 큰 차이는 y축 값의 단위이다. 밀도 그림에선 개수가 아닌 비율을 표시한다. 밀도 곡선 아래의 총면적은 1이고 구간의 개수 대신 x축의 두 점 사이의 곡선 아래 면적을 계산하며, 이는 두 점 사이에 있는 분포의 비율에 해당한다. "
   ],
   "metadata": {}
  }
 ],
 "metadata": {
  "orig_nbformat": 4,
  "language_info": {
   "name": "python",
   "version": "3.8.8",
   "mimetype": "text/x-python",
   "codemirror_mode": {
    "name": "ipython",
    "version": 3
   },
   "pygments_lexer": "ipython3",
   "nbconvert_exporter": "python",
   "file_extension": ".py"
  },
  "kernelspec": {
   "name": "python3",
   "display_name": "Python 3.8.8 64-bit ('ds': conda)"
  },
  "interpreter": {
   "hash": "7bcc2250d2c768ac5e86847e4dcc0c989ec66ae9cbfbad130057c86246b226f2"
  }
 },
 "nbformat": 4,
 "nbformat_minor": 2
}