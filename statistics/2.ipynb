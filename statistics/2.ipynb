{
 "cells": [
  {
   "cell_type": "markdown",
   "id": "9cb04ec4",
   "metadata": {},
   "source": [
    "# 2.데이터와 표본분포\n",
    "\n",
    "<img src=\"https://yurimkoo.github.io/assets/img/data-and-sample-distribution/1.png\" width=\"250\">    \n",
    "\n",
    "그림의 왼편은 통계학에서 표본분포를 따를 것으로 추정되는 미지의 모집단이다. 하지만 우리가 유일하게 사용할 수 있는 것은 오른쪽에 있는 표시된 표본 데이터이다. 모집단에서 표본을 얻어내는 것이 표본추출이다. "
   ]
  },
  {
   "cell_type": "markdown",
   "id": "494d71c3",
   "metadata": {},
   "source": [
    "## 2-1.임의표본추출과 표본편향\n",
    "- 표본sample: 더 큰 데이터 집합으로부터 얻은 부분집합\n",
    "- 모집단population: 어떤 데이터 집합을 구성하는 전체 대상 혹은 전체 집합\n",
    "- 임의표본추출random sampling: 무작위로 표본을 추출\n",
    "    - 단순임의표본: 임의표본추출의 결과로 얻은 샘플\n",
    "- 복원추출:추첨 후, 중복 추출이 가능하도록 해당 샘플을 다시 모집단에 포함시킨다.\n",
    "- 비복원추출: 그 반대\n",
    "- 층화표본추출stratified sampling: 모집단을 층으로 나눈 뒤, 각 층에서 무작위로 표본을 추출\n",
    "- 계층stratum: 공통된 특징을 가진 모집단의 동종 하위 그룹\n",
    "- 표본편향sample bias: 모집단을 잘못 대표하는 표본\n",
    "샘플 기반의 추정이나 모델링에선, 데이터 품질이 양보다 중요하다. 통계는 여기에 대표성representativeness이라는 개념을 추가한다. "
   ]
  },
  {
   "cell_type": "markdown",
   "id": "6bc9c1f8",
   "metadata": {},
   "source": [
    "### 2-1-1.임의 선택\n",
    "표본편향 문제 해결을 위해 대표성을 담보하는 방법은 여러 가지가 있지만, 핵심은 임의표본추출이다. 좋은 임의표본추출을 위해선 접근 가능한 모집단을 적절히 정의하는게 중요하다. 그 뒤 표본추출 기준을 정해야한다.   \n",
    "층화표본추출에서는 모집단을 층으로 나누고 각 층에서 무작위로 샘플을 추출한다. (백인,흑인,황인계 유권자들의 투표 성향 조사)\n",
    "\n",
    "### 2-1-2.데이터의 크기와 품질\n",
    "사실 데이터 개수가 적을수록 유리한 경우가 있다. 임의표본추출에 시간과 노력을 들일수록 편향이 줄고 데이터 탐색 및 품질에 더 집중해 결측값이나 특이값으로부터 유용한 정보를 얻을 수 있다. 하지만 데이터를 일일이 손으로 조사하고 검사하기는 어렵다.  \n",
    "\n",
    "### 2-1-3.표본평균과 모평균\n",
    "기호 $\\bar{x}$는 표본평균을 나타내는 데 사용되는 반면, $\\mu$는 모집단의 평균을 나타내는 데 사용된다. 이 둘을 구분하는 이유는 표본에 대한 정보는 관찰을 통해 얻어지고, 모집단에 대한 정보는 작은 표본들로부터 추론한다. "
   ]
  },
  {
   "cell_type": "markdown",
   "metadata": {},
   "source": [
    "## 2-2.선택편향\n",
    "선택편향은 데이터를 의식적이든 무의식적이든 선택적으로 고르는 것이다. 결국 선택편향이 발생하게 된다.\n",
    "- 선택편향selection bias: 관측 데이터를 선택하는 방식으로 인해 생기는 편향\n",
    "- 데이터 스누핑: 흥미로운 것을 찾아 광범위하게 데이터를 살피는 것  \n",
    "\n",
    "데이터를 먼저 확인 한 후 그 안에서 패턴을 찾는 경우 이것이 참된 패턴인지 아니면 데이터 스누핑을 통해 나온 결과인지 알 수 없다(\"데이터를 계속 고문하다보면 언젠간 뭐든 털어놓을 것이다.\").   \n",
    "빅데이터를 반복적으로 조사하는 것이 데이터 과학의 중요한 가치 명제이기 때문에 선택편향에 대해 주의해야 한다. 선택편향의 형태로 vast search effect는 큰 데이터 집합을 갖고 반복적으로 다른 모델을 만들고 다른 질문을 하다보면 언젠간 흥미로운 것을 발견한다는 것이다. 과연 그 결과가 우연히 얻은 것인가 의미 있는 것인가.\n",
    "\n",
    "성능 검증을 위해 둘 이상의 holdout 세트를 이용해 방지할 수 있다. 또한 데이터 마이닝 모델에서 제시하는 예측들을 검증하기 위해 목푯값 섞기라는 것을 이용할 수 있다. "
   ]
  },
  {
   "cell_type": "markdown",
   "metadata": {},
   "source": [
    "### 2-2-1.평균으로의 회귀\n",
    "regression to the mean이란 어떤 변수를 연속적으로 측정했을 때 나타나는 현상이다. 예외적인 경우가 관찰되면 그다음에는 중간 정도의 경우가 관찰되는 경향이 있다. 따라서 예외적인 경우를 너무 특별히 생각하고 의미를 부여하면 선택편향으로 이어질 수 있다.   \n",
    "예를 들어 스포츠의 신인상 수상자들은 2년 차부터 성적이 좋지 않다. 왜냐하면 스포츠에는 실력과 행운이라는 두 요소가 있다. 성적으로 신인을 뽑을 때 실력 외에도 운도 동시에 따랐을 것이다. 실력은 유지 되더라도 운은 유지할 수 없기에 성적은 나빠진다. "
   ]
  },
  {
   "cell_type": "markdown",
   "metadata": {},
   "source": [
    "## 2-3.통계학에서의 표본분포\n",
    "통계의 표본분포라는 용어는 하나의 동일한 모집단에서 얻은 여러 샘플에 대한 표본통계량의 분포를 나타낸다. \n",
    "- 표본통계량: 더 큰 모집단에서 추출된 표본 데이터들로부터 얻을 측정 지표\n",
    "- 데이터 분포: 어떤 데이터 집합에서의 각 개별 값의 도수분포\n",
    "- 표본분포: 여러 표본들 혹은 재표본들로부터 얻은 표본통계량의 도수분포\n",
    "- 중심극한정리: 표본크기가 커질수록 표본분포가 정규분포를 따르는 경향\n",
    "- 표준오차: 여러 표분들로부터 얻을 표본통계량의 변량\n",
    "\n",
    "일반적으로 표본통계량으로 어떤 것을 측정하거나 모델링하기 위해 표본을 뽑는다. 따라서 무슨 표본을 뽑았냐에 따라 결과가 다를 수 있으므로 주요 관심사는 표본의 변동성이다.  \n",
    "우리가 많은 양의 데이터를 갖고 있다면 추가로 표본을 얻어 통계의 분포를 직접 관찰할 수 있다. \n",
    "\n",
    "평균과 같은 표본통계량의 분포는 데이터 자체의 분포보다 규칙적이고 종 모양일 가능성이 높다. 표본이 클수록 그럴 가능성이 높아지고 표본통계량의 분포가 좁아진다.   "
   ]
  },
  {
   "cell_type": "markdown",
   "metadata": {},
   "source": [
    "### 2-3-1.중심극한정리\n",
    "위와 같은 현상을 중심극한정리라고 한다. 모집단이 정규분포가 아니더라도, 표본크기가 충분하고 데이터가 정규성을 크게 이탈하지 않는 경우, 여러 표본에서 추출한 평균은 종 모양의 정규곡선을 따른다.  \n",
    "\n",
    "### 2-3-2.표준오차\n",
    "표준오차는 통계에 대한 표본분포의 변동성을 한마디로 말해주는 단일 측정 지표이다. 표준오차는 표본 값들의 표준편차 s와 표본크기 n을 기반으로 한 통계량을 이용해 추정할 수 있다. \n",
    "$$표준오차=SE=\\frac{s}{\\sqrt{n}}$$\n",
    "표본크기가 커지면 표준오차가 준다. 표준오차와 표본크기 사이의 관계를 때로는 n제곱근의 법칙이라고 한다. (표준오차를 2배로 줄이려면 표본크기를 4배 증가시켜야 한다.)  \n",
    "표준오차 측정시 다음 사항들을 고려해야 한다. \n",
    "1. 모집단에서 완전히 새로운 샘플들을 많이 수집한다. \n",
    "2. 각각의 새 샘플에 대해 통계량을 계산한다.\n",
    "3. 2단계에서 얻을 통계량의 표준편차를 계산한 뒤, 이를 표준오차의 추정치로 사용한다. "
   ]
  },
  {
   "cell_type": "markdown",
   "metadata": {},
   "source": [
    "## 2-4.부트스트랩\n",
    "통계량이나 모델 파라미터의 표본분포를 추정하는 쉽고 효과적인 방법은, 현재 있는 표본에서 추가적으로 표본을 복원추출하고 각 표본에 대한 통계량과 모델을 다시 계산하는 것이다. 이러한 절차를 부트스트랩이라 한다. \n",
    "- 부트스트랩 표본: 관측 데이터 집합으로부터 얻은 복원추출 표본\n",
    "- resampling: 관측 데이터로부터 반복해서 표본추출하는 과정 \n",
    "\n",
    "부트스트랩은 개념적으로 표본을 수천, 수백만 번 복제하는 것이라고 생각할 수 있다.그리고 이를 통해 원래 표본으로부터 얻어지는 모든 정보를 포함하는 가상 모집단을 얻게 된다. 그 뒤 이 가상 모집단으로부터 표본분포를 추정할 목적으로 표본을 수집할 수 있다. \n",
    "\n",
    "<img src=\"https://mblogthumb-phinf.pstatic.net/MjAyMDAzMjJfMTIg/MDAxNTg0ODQwOTEyMjUz.AT_UuAZB6EwRPxhb4gRjwYhZQYb5skpvFHJOBCWzuXYg.ayiCgO-qL4qD6NJawAtB6UzYQCl98VZe28q5dtxOIl4g.PNG.pmw9440/2.48_bootstrap1.png?type=w800\" width=\"250\">   \n",
    "\n",
    "그렇다고 표본을 엄청난 횟수로 복제하는 것은 아니다. 대신 복원추출함으로써 각 원소가 뽑힐 확률은 유지하면서 무한한 크기의 모집단을 만들어낼 수 있다.   \n",
    "크기 n의 샘플의 평균을 구하는 부트스트랩 재표본추출 알고리즘은 다음과 같다. \n",
    "1. 표본 값을 하나 뽑아서 기록하고 다시 제자리에 둔다.(복원추출한다.)\n",
    "2. n번 반복한다.  \n",
    "3. 재표본추출된 값의 평균을 기록한다. \n",
    "4. 1~3단계를 R번 반복한다. \n",
    "5. R개의 결과를 사용하여 \n",
    "    1. 표준편차(표본평균의 표준오차)를 계산\n",
    "    2. 히스토그램 또는 box plot을 그린다. \n",
    "    3. 신뢰구간을 찾는다.\n",
    "R은 임의로 설정한다.(반복 횟수가 많을수록 표준오차나 신뢰구간에 대한 추정이 더 정확해진다.)  \n",
    "위의 절차를 통해 표본통계량 혹은 추정한 모델 파라미터의 부트스트랩 집합을 얻게 되고, 이 집합의 변화를 조사할 수 있다. "
   ]
  },
  {
   "cell_type": "code",
   "execution_count": 4,
   "metadata": {},
   "outputs": [
    {
     "data": {
      "text/html": [
       "<div>\n",
       "<style scoped>\n",
       "    .dataframe tbody tr th:only-of-type {\n",
       "        vertical-align: middle;\n",
       "    }\n",
       "\n",
       "    .dataframe tbody tr th {\n",
       "        vertical-align: top;\n",
       "    }\n",
       "\n",
       "    .dataframe thead th {\n",
       "        text-align: right;\n",
       "    }\n",
       "</style>\n",
       "<table border=\"1\" class=\"dataframe\">\n",
       "  <thead>\n",
       "    <tr style=\"text-align: right;\">\n",
       "      <th></th>\n",
       "      <th>col1</th>\n",
       "      <th>col2</th>\n",
       "    </tr>\n",
       "  </thead>\n",
       "  <tbody>\n",
       "    <tr>\n",
       "      <th>0</th>\n",
       "      <td>-0.401917</td>\n",
       "      <td>-1.048759</td>\n",
       "    </tr>\n",
       "    <tr>\n",
       "      <th>1</th>\n",
       "      <td>-2.268345</td>\n",
       "      <td>-2.717992</td>\n",
       "    </tr>\n",
       "    <tr>\n",
       "      <th>2</th>\n",
       "      <td>-0.438789</td>\n",
       "      <td>0.080471</td>\n",
       "    </tr>\n",
       "  </tbody>\n",
       "</table>\n",
       "</div>"
      ],
      "text/plain": [
       "       col1      col2\n",
       "0 -0.401917 -1.048759\n",
       "1 -2.268345 -2.717992\n",
       "2 -0.438789  0.080471"
      ]
     },
     "execution_count": 4,
     "metadata": {},
     "output_type": "execute_result"
    }
   ],
   "source": [
    "import pandas as pd\n",
    "import numpy as np\n",
    "\n",
    "df = pd.DataFrame({'col1': np.random.randn(1000), \n",
    "                   'col2': np.random.randn(1000)})\n",
    "\n",
    "df.head(3)"
   ]
  },
  {
   "cell_type": "code",
   "execution_count": 7,
   "metadata": {},
   "outputs": [
    {
     "data": {
      "text/plain": [
       "[col1    0.039779\n",
       " col2    0.019501\n",
       " dtype: float64,\n",
       " col1   -0.068983\n",
       " col2    0.020017\n",
       " dtype: float64,\n",
       " col1    0.002005\n",
       " col2   -0.019573\n",
       " dtype: float64,\n",
       " col1   -0.002893\n",
       " col2    0.018359\n",
       " dtype: float64,\n",
       " col1    0.060851\n",
       " col2   -0.012264\n",
       " dtype: float64]"
      ]
     },
     "execution_count": 7,
     "metadata": {},
     "output_type": "execute_result"
    }
   ],
   "source": [
    "from sklearn.utils import resample\n",
    "\n",
    "result = []\n",
    "for nrepeat in range(1000):\n",
    "    sample = resample(df)\n",
    "    result.append(sample.median())\n",
    "results = pd.Series(result)\n",
    "\n",
    "result[:5]"
   ]
  },
  {
   "cell_type": "markdown",
   "metadata": {},
   "source": [
    "## 2-5.신뢰구간\n",
    "- 신뢰수준: 같은 모집단으로부터 같은 방식으로 얻은, 관심 통계량을 포함할 것으로 예상되는, 신뢰구간의 백분율  \n",
    "신뢰수준이 높을수록 구간이 더 넓어지고, 표본이 작을수록 구간이 넓어진다. \n",
    "- 구간끝점: 신뢰구간의 최상위, 최하위 끝점\n",
    "\n",
    "신뢰구간은 항상 90%와 같이 높은 백분율로 표현되는 포함 수준과 함께 나온다. \n",
    "90% 신뢰구간이란 일반적으로 말하면, 표본 추정치 주위의 X% 신뢰구간이란, 평균적으로 유사한 표본추정치 X%정도가 포함되어야 한다. \n",
    "\n",
    "표본크기 n과 관심 있는 표본통계량이 주어졌을 때, 부트스트랩 신뢰구간을 구하는 법은 아래와 같다. \n",
    "1. 데이터에서 복원추출 방식으로 크기 n인 표본을 뽑는다. (재표본추출)\n",
    "2. 1에서 추출한 표본에 대해 원하는 통계량을 기록한다. \n",
    "3. 1~2단계를 R번 반복한다.\n",
    "4. x% 신뢰구간을 구하기 위해, R개의 재표본 결과의 분포 양쪽 끝에서 [(100-x)/2]%만큼 잘라낸다. \n",
    "5. 절단한 점들은 x% 부트스트랩 신뢰구간의 양 끝점이다. \n"
   ]
  },
  {
   "cell_type": "markdown",
   "metadata": {},
   "source": [
    "## 2-6.정규분포(가우스 분포)\n",
    "종모양의 정규분포는 수집된 자료의 분포를 근사하는 데에 자주 사용된다.   \n",
    "- 오차: 데이터 포인트와 예측값 혹은 평균 사이의 차이\n",
    "- 정규화(표준화): 평균을 빼고 표준편차로 나눈다.\n",
    "- z-score: 개별 데이터 포인트를 정규화한 결과\n",
    "- 표준정규분포: 평균=0, 표준편차=1인 정규분포\n",
    "- QQ plot: 표본분포가 특정 분포에 얼마나 가까운지를 보여주는 그림\n",
    "\n",
    "### 2-6-1.표준정규분포와 QQ plot\n",
    "표준정규분포는 x축의 단위가 평균의 표준편차로 표현되는 정규분포를 말한다. 데이터를 표준정규분포와 비교해 데이터에서 평균을 뺀 뒤 표준편차로 나눈다. 이를 정규화 또는 표준화normalization 또는 표준화standardization라고 한다. 이렇게 변환한 값을 z-score이라고 하며, 정규분포를 z 분포라고도 한다. \n",
    "\n",
    "QQ plot은 z 점수를 오름차순으로 정렬하고 각 값의 z점수를 y축에 표시한다. x축은 정규분포에서의 해당 분위수를 나타낸다. 데이터가 표준화되었으므로 단위는 평균으로부터 떨어진 데이터의 표준편차 수에 해당한다. "
   ]
  },
  {
   "cell_type": "code",
   "execution_count": 8,
   "metadata": {},
   "outputs": [
    {
     "data": {
      "text/plain": [
       "((array([-2.46203784, -2.12570747, -1.93122778, -1.79044653, -1.67819304,\n",
       "         -1.58381122, -1.50174123, -1.42869743, -1.36256869, -1.30191411,\n",
       "         -1.24570419, -1.19317644, -1.14374949, -1.09696931, -1.05247413,\n",
       "         -1.00997067, -0.96921765, -0.93001393, -0.89218993, -0.85560121,\n",
       "         -0.82012357, -0.78564937, -0.75208458, -0.71934648, -0.68736185,\n",
       "         -0.65606548, -0.62539893, -0.59530962, -0.56574992, -0.53667655,\n",
       "         -0.50804994, -0.47983378, -0.45199463, -0.42450149, -0.39732558,\n",
       "         -0.37044003, -0.34381966, -0.31744076, -0.29128096, -0.26531902,\n",
       "         -0.23953472, -0.21390872, -0.18842244, -0.16305799, -0.13779803,\n",
       "         -0.1126257 , -0.08752455, -0.06247843, -0.03747145, -0.01248789,\n",
       "          0.01248789,  0.03747145,  0.06247843,  0.08752455,  0.1126257 ,\n",
       "          0.13779803,  0.16305799,  0.18842244,  0.21390872,  0.23953472,\n",
       "          0.26531902,  0.29128096,  0.31744076,  0.34381966,  0.37044003,\n",
       "          0.39732558,  0.42450149,  0.45199463,  0.47983378,  0.50804994,\n",
       "          0.53667655,  0.56574992,  0.59530962,  0.62539893,  0.65606548,\n",
       "          0.68736185,  0.71934648,  0.75208458,  0.78564937,  0.82012357,\n",
       "          0.85560121,  0.89218993,  0.93001393,  0.96921765,  1.00997067,\n",
       "          1.05247413,  1.09696931,  1.14374949,  1.19317644,  1.24570419,\n",
       "          1.30191411,  1.36256869,  1.42869743,  1.50174123,  1.58381122,\n",
       "          1.67819304,  1.79044653,  1.93122778,  2.12570747,  2.46203784]),\n",
       "  array([-2.76668807e+00, -2.48339686e+00, -2.27266416e+00, -2.13116202e+00,\n",
       "         -2.02832207e+00, -1.87690464e+00, -1.83937271e+00, -1.83410022e+00,\n",
       "         -1.72599878e+00, -1.60495080e+00, -1.53088298e+00, -1.48825391e+00,\n",
       "         -1.44096177e+00, -1.39855147e+00, -1.35629701e+00, -1.35454478e+00,\n",
       "         -1.22423889e+00, -1.12403058e+00, -1.08836552e+00, -1.08598194e+00,\n",
       "         -1.05889443e+00, -9.83480461e-01, -9.80874764e-01, -9.80720565e-01,\n",
       "         -9.80586739e-01, -9.02234050e-01, -8.93398424e-01, -8.16746642e-01,\n",
       "         -7.32250568e-01, -7.00162992e-01, -6.43462248e-01, -6.31696397e-01,\n",
       "         -6.08300775e-01, -4.68762041e-01, -4.43295598e-01, -4.31271546e-01,\n",
       "         -3.56398459e-01, -3.55913907e-01, -3.42783936e-01, -3.29729480e-01,\n",
       "         -3.27279437e-01, -2.89420773e-01, -2.87259704e-01, -2.74907080e-01,\n",
       "         -1.86598309e-01, -1.78233020e-01, -1.17465942e-01, -1.00769322e-01,\n",
       "         -8.91532239e-02, -8.14774392e-02, -6.70461182e-03, -1.99670042e-03,\n",
       "          4.92214634e-02,  5.77664707e-02,  7.13080566e-02,  9.76468117e-02,\n",
       "          1.31329421e-01,  1.40201417e-01,  1.49539961e-01,  1.91985731e-01,\n",
       "          2.11743004e-01,  2.85470520e-01,  2.86788028e-01,  3.13841518e-01,\n",
       "          3.62115290e-01,  4.15182761e-01,  4.27041404e-01,  4.60109769e-01,\n",
       "          4.80764229e-01,  5.07200493e-01,  5.15840790e-01,  5.36845075e-01,\n",
       "          5.80488376e-01,  6.03765452e-01,  6.03876171e-01,  6.59052420e-01,\n",
       "          6.94050832e-01,  7.18882719e-01,  7.28761708e-01,  7.65121385e-01,\n",
       "          7.70627237e-01,  8.16920656e-01,  9.26346387e-01,  9.54344223e-01,\n",
       "          1.02022179e+00,  1.07402450e+00,  1.08801233e+00,  1.10261937e+00,\n",
       "          1.15768087e+00,  1.18560606e+00,  1.21764566e+00,  1.40887336e+00,\n",
       "          1.44541289e+00,  1.51366929e+00,  1.54187352e+00,  1.65454499e+00,\n",
       "          1.92000613e+00,  2.14147368e+00,  2.15087056e+00,  3.00428759e+00])),\n",
       " (1.1241623129356446, -0.10096896407977927, 0.9978940590264108))"
      ]
     },
     "execution_count": 8,
     "metadata": {},
     "output_type": "execute_result"
    },
    {
     "data": {
      "image/png": "[encoded data removed]",
      "text/plain": [
       "<Figure size 432x288 with 1 Axes>"
      ]
     },
     "metadata": {
      "needs_background": "light"
     },
     "output_type": "display_data"
    }
   ],
   "source": [
    "import matplotlib.pyplot as plt\n",
    "from scipy import stats\n",
    "\n",
    "fig, ax = plt.subplots()\n",
    "norm_sample = stats.norm.rvs(size=100)\n",
    "stats.probplot(norm_sample, plot=ax)"
   ]
  },
  {
   "cell_type": "markdown",
   "metadata": {},
   "source": [
    "## 2-7.긴 꼬리 분포\n",
    "데이터는 일반적으로 정규분포를 따르지 않는다. \n",
    "- 꼬리: 적은 수의 극단값이 주로 존재하는 도수분포의 길고 좁은 부분\n",
    "- 왜도: 분포의 한쪽 꼬리가 반대쪽 꼬리보다 긴 정도\n",
    "\n",
    "오차나 표본통계량의 분포를 볼 때 정규분포는 적절하고 유용하지만, 정규분포가 일반적으로 원시 데이터 분포의 특징을 나타내지는 않는다. 대칭 및 비대칭 분포 모두 긴 꼬리를 가질 수 있다. 분포의 꼬리는 양 극한값에 해당한다. "
   ]
  },
  {
   "cell_type": "code",
   "execution_count": 9,
   "metadata": {},
   "outputs": [
    {
     "data": {
      "text/plain": [
       "((array([-2.99148779, -2.70949569, -2.55092824, -2.43849088, -2.35038866,\n",
       "         -2.27745777, -2.21494281, -2.16004641, -2.11097846, -2.06652166,\n",
       "         -2.02580925, -1.98820138, -1.95321175, -1.92046179, -1.88965077,\n",
       "         -1.86053573, -1.83291741, -1.8066303 , -1.7815354 , -1.75751472,\n",
       "         -1.73446731, -1.71230602, -1.69095513, -1.67034836, -1.65042742,\n",
       "         -1.63114071, -1.61244233, -1.5942913 , -1.57665082, -1.55948776,\n",
       "         -1.54277217, -1.52647685, -1.51057708, -1.49505026, -1.47987574,\n",
       "         -1.46503453, -1.45050917, -1.43628356, -1.42234281, -1.40867313,\n",
       "         -1.39526172, -1.38209668, -1.36916692, -1.35646209, -1.34397251,\n",
       "         -1.33168913, -1.31960346, -1.30770751, -1.2959938 , -1.28445526,\n",
       "         -1.27308524, -1.26187747, -1.250826  , -1.23992522, -1.22916982,\n",
       "         -1.21855477, -1.20807526, -1.19772678, -1.187505  , -1.17740581,\n",
       "         -1.1674253 , -1.15755974, -1.14780558, -1.13815942, -1.12861802,\n",
       "         -1.11917828, -1.10983722, -1.10059201, -1.09143993, -1.08237837,\n",
       "         -1.07340482, -1.06451688, -1.05571225, -1.04698871, -1.03834413,\n",
       "         -1.02977645, -1.02128371, -1.01286399, -1.00451548, -0.99623639,\n",
       "         -0.98802503, -0.97987976, -0.97179898, -0.96378117, -0.95582484,\n",
       "         -0.94792857, -0.94009096, -0.93231067, -0.92458642, -0.91691694,\n",
       "         -0.90930102, -0.90173748, -0.89422517, -0.886763  , -0.87934988,\n",
       "         -0.87198477, -0.86466666, -0.85739457, -0.85016754, -0.84298465,\n",
       "         -0.83584498, -0.82874767, -0.82169186, -0.81467673, -0.80770146,\n",
       "         -0.80076527, -0.79386739, -0.78700708, -0.78018361, -0.77339627,\n",
       "         -0.76664438, -0.75992726, -0.75324425, -0.74659471, -0.73997803,\n",
       "         -0.73339358, -0.72684078, -0.72031904, -0.71382779, -0.70736648,\n",
       "         -0.70093457, -0.69453153, -0.68815684, -0.68180999, -0.67549049,\n",
       "         -0.66919785, -0.66293159, -0.65669127, -0.6504764 , -0.64428657,\n",
       "         -0.63812132, -0.63198023, -0.62586288, -0.61976886, -0.61369778,\n",
       "         -0.60764923, -0.60162283, -0.5956182 , -0.58963497, -0.58367277,\n",
       "         -0.57773125, -0.57181006, -0.56590884, -0.56002727, -0.55416501,\n",
       "         -0.54832173, -0.54249711, -0.53669084, -0.53090261, -0.52513211,\n",
       "         -0.51937905, -0.51364312, -0.50792404, -0.50222153, -0.4965353 ,\n",
       "         -0.49086509, -0.48521061, -0.4795716 , -0.4739478 , -0.46833895,\n",
       "         -0.4627448 , -0.45716509, -0.45159957, -0.44604801, -0.44051017,\n",
       "         -0.4349858 , -0.42947467, -0.42397656, -0.41849123, -0.41301847,\n",
       "         -0.40755805, -0.40210975, -0.39667337, -0.39124868, -0.38583548,\n",
       "         -0.38043357, -0.37504273, -0.36966277, -0.36429349, -0.35893469,\n",
       "         -0.35358618, -0.34824776, -0.34291925, -0.33760046, -0.33229121,\n",
       "         -0.3269913 , -0.32170056, -0.31641881, -0.31114588, -0.30588158,\n",
       "         -0.30062574, -0.2953782 , -0.29013878, -0.28490731, -0.27968362,\n",
       "         -0.27446756, -0.26925895, -0.26405764, -0.25886346, -0.25367626,\n",
       "         -0.24849587, -0.24332215, -0.23815492, -0.23299405, -0.22783938,\n",
       "         -0.22269076, -0.21754803, -0.21241105, -0.20727966, -0.20215373,\n",
       "         -0.19703311, -0.19191765, -0.1868072 , -0.18170163, -0.17660079,\n",
       "         -0.17150454, -0.16641274, -0.16132525, -0.15624194, -0.15116266,\n",
       "         -0.14608727, -0.14101565, -0.13594765, -0.13088314, -0.12582199,\n",
       "         -0.12076405, -0.1157092 , -0.11065731, -0.10560824, -0.10056186,\n",
       "         -0.09551805, -0.09047666, -0.08543756, -0.08040064, -0.07536576,\n",
       "         -0.07033278, -0.06530159, -0.06027205, -0.05524403, -0.05021741,\n",
       "         -0.04519206, -0.04016785, -0.03514465, -0.03012234, -0.02510079,\n",
       "         -0.02007988, -0.01505946, -0.01003943, -0.00501965,  0.        ,\n",
       "          0.00501965,  0.01003943,  0.01505946,  0.02007988,  0.02510079,\n",
       "          0.03012234,  0.03514465,  0.04016785,  0.04519206,  0.05021741,\n",
       "          0.05524403,  0.06027205,  0.06530159,  0.07033278,  0.07536576,\n",
       "          0.08040064,  0.08543756,  0.09047666,  0.09551805,  0.10056186,\n",
       "          0.10560824,  0.11065731,  0.1157092 ,  0.12076405,  0.12582199,\n",
       "          0.13088314,  0.13594765,  0.14101565,  0.14608727,  0.15116266,\n",
       "          0.15624194,  0.16132525,  0.16641274,  0.17150454,  0.17660079,\n",
       "          0.18170163,  0.1868072 ,  0.19191765,  0.19703311,  0.20215373,\n",
       "          0.20727966,  0.21241105,  0.21754803,  0.22269076,  0.22783938,\n",
       "          0.23299405,  0.23815492,  0.24332215,  0.24849587,  0.25367626,\n",
       "          0.25886346,  0.26405764,  0.26925895,  0.27446756,  0.27968362,\n",
       "          0.28490731,  0.29013878,  0.2953782 ,  0.30062574,  0.30588158,\n",
       "          0.31114588,  0.31641881,  0.32170056,  0.3269913 ,  0.33229121,\n",
       "          0.33760046,  0.34291925,  0.34824776,  0.35358618,  0.35893469,\n",
       "          0.36429349,  0.36966277,  0.37504273,  0.38043357,  0.38583548,\n",
       "          0.39124868,  0.39667337,  0.40210975,  0.40755805,  0.41301847,\n",
       "          0.41849123,  0.42397656,  0.42947467,  0.4349858 ,  0.44051017,\n",
       "          0.44604801,  0.45159957,  0.45716509,  0.4627448 ,  0.46833895,\n",
       "          0.4739478 ,  0.4795716 ,  0.48521061,  0.49086509,  0.4965353 ,\n",
       "          0.50222153,  0.50792404,  0.51364312,  0.51937905,  0.52513211,\n",
       "          0.53090261,  0.53669084,  0.54249711,  0.54832173,  0.55416501,\n",
       "          0.56002727,  0.56590884,  0.57181006,  0.57773125,  0.58367277,\n",
       "          0.58963497,  0.5956182 ,  0.60162283,  0.60764923,  0.61369778,\n",
       "          0.61976886,  0.62586288,  0.63198023,  0.63812132,  0.64428657,\n",
       "          0.6504764 ,  0.65669127,  0.66293159,  0.66919785,  0.67549049,\n",
       "          0.68180999,  0.68815684,  0.69453153,  0.70093457,  0.70736648,\n",
       "          0.71382779,  0.72031904,  0.72684078,  0.73339358,  0.73997803,\n",
       "          0.74659471,  0.75324425,  0.75992726,  0.76664438,  0.77339627,\n",
       "          0.78018361,  0.78700708,  0.79386739,  0.80076527,  0.80770146,\n",
       "          0.81467673,  0.82169186,  0.82874767,  0.83584498,  0.84298465,\n",
       "          0.85016754,  0.85739457,  0.86466666,  0.87198477,  0.87934988,\n",
       "          0.886763  ,  0.89422517,  0.90173748,  0.90930102,  0.91691694,\n",
       "          0.92458642,  0.93231067,  0.94009096,  0.94792857,  0.95582484,\n",
       "          0.96378117,  0.97179898,  0.97987976,  0.98802503,  0.99623639,\n",
       "          1.00451548,  1.01286399,  1.02128371,  1.02977645,  1.03834413,\n",
       "          1.04698871,  1.05571225,  1.06451688,  1.07340482,  1.08237837,\n",
       "          1.09143993,  1.10059201,  1.10983722,  1.11917828,  1.12861802,\n",
       "          1.13815942,  1.14780558,  1.15755974,  1.1674253 ,  1.17740581,\n",
       "          1.187505  ,  1.19772678,  1.20807526,  1.21855477,  1.22916982,\n",
       "          1.23992522,  1.250826  ,  1.26187747,  1.27308524,  1.28445526,\n",
       "          1.2959938 ,  1.30770751,  1.31960346,  1.33168913,  1.34397251,\n",
       "          1.35646209,  1.36916692,  1.38209668,  1.39526172,  1.40867313,\n",
       "          1.42234281,  1.43628356,  1.45050917,  1.46503453,  1.47987574,\n",
       "          1.49505026,  1.51057708,  1.52647685,  1.54277217,  1.55948776,\n",
       "          1.57665082,  1.5942913 ,  1.61244233,  1.63114071,  1.65042742,\n",
       "          1.67034836,  1.69095513,  1.71230602,  1.73446731,  1.75751472,\n",
       "          1.7815354 ,  1.8066303 ,  1.83291741,  1.86053573,  1.88965077,\n",
       "          1.92046179,  1.95321175,  1.98820138,  2.02580925,  2.06652166,\n",
       "          2.11097846,  2.16004641,  2.21494281,  2.27745777,  2.35038866,\n",
       "          2.43849088,  2.55092824,  2.70949569,  2.99148779]),\n",
       "  array([-6.19485922e+00, -5.89152038e+00, -5.59579839e+00, -5.48577192e+00,\n",
       "         -4.41970367e+00, -4.26368585e+00, -4.21673747e+00, -3.87638552e+00,\n",
       "         -3.76384799e+00, -3.57403056e+00, -3.46360447e+00, -3.16159240e+00,\n",
       "         -3.10338957e+00, -3.06374534e+00, -3.02968608e+00, -3.01992473e+00,\n",
       "         -2.92471378e+00, -2.87055513e+00, -2.86044851e+00, -2.82306139e+00,\n",
       "         -2.81689705e+00, -2.80947272e+00, -2.78225038e+00, -2.75797249e+00,\n",
       "         -2.74722395e+00, -2.73625505e+00, -2.73612204e+00, -2.71067481e+00,\n",
       "         -2.65633234e+00, -2.61881622e+00, -2.59907780e+00, -2.55084064e+00,\n",
       "         -2.54147027e+00, -2.43308718e+00, -2.40491803e+00, -2.38197961e+00,\n",
       "         -2.35907683e+00, -2.32600131e+00, -2.32278399e+00, -2.30562573e+00,\n",
       "         -2.30106261e+00, -2.28708134e+00, -2.25303599e+00, -2.20182590e+00,\n",
       "         -2.16587536e+00, -2.15227164e+00, -2.14702774e+00, -2.14425106e+00,\n",
       "         -2.14281103e+00, -2.14122267e+00, -2.12625737e+00, -2.09444587e+00,\n",
       "         -2.09287076e+00, -2.07136352e+00, -1.98935401e+00, -1.95653285e+00,\n",
       "         -1.95094915e+00, -1.94069848e+00, -1.91115182e+00, -1.88296544e+00,\n",
       "         -1.84362930e+00, -1.82950770e+00, -1.82919661e+00, -1.82074998e+00,\n",
       "         -1.79377704e+00, -1.78480372e+00, -1.78448486e+00, -1.78068641e+00,\n",
       "         -1.74506623e+00, -1.71320844e+00, -1.70710050e+00, -1.68462233e+00,\n",
       "         -1.68258223e+00, -1.67490170e+00, -1.66265930e+00, -1.64751330e+00,\n",
       "         -1.63704261e+00, -1.55800128e+00, -1.53773498e+00, -1.53748788e+00,\n",
       "         -1.52040196e+00, -1.51363403e+00, -1.50406370e+00, -1.49179222e+00,\n",
       "         -1.48602231e+00, -1.47654547e+00, -1.46143473e+00, -1.44656160e+00,\n",
       "         -1.43541722e+00, -1.41995330e+00, -1.41970571e+00, -1.38305993e+00,\n",
       "         -1.38298448e+00, -1.38023380e+00, -1.37349683e+00, -1.36899023e+00,\n",
       "         -1.35715310e+00, -1.35576994e+00, -1.31385193e+00, -1.30583743e+00,\n",
       "         -1.29627259e+00, -1.29053372e+00, -1.28449974e+00, -1.26205447e+00,\n",
       "         -1.23809294e+00, -1.22639277e+00, -1.20167587e+00, -1.19557046e+00,\n",
       "         -1.19355927e+00, -1.18578345e+00, -1.16508611e+00, -1.16198366e+00,\n",
       "         -1.16166227e+00, -1.15488790e+00, -1.13855917e+00, -1.13021893e+00,\n",
       "         -1.12422755e+00, -1.10757585e+00, -1.09417244e+00, -1.05327764e+00,\n",
       "         -1.05203408e+00, -1.05144846e+00, -1.02830052e+00, -1.02567807e+00,\n",
       "         -1.02563555e+00, -1.00629194e+00, -9.55335106e-01, -9.45716638e-01,\n",
       "         -9.43941669e-01, -9.41012478e-01, -9.38369214e-01, -9.33497140e-01,\n",
       "         -9.27890880e-01, -9.10028365e-01, -8.91457454e-01, -8.89689917e-01,\n",
       "         -8.75466267e-01, -8.73365699e-01, -8.71112575e-01, -8.68471388e-01,\n",
       "         -8.57867978e-01, -8.56884930e-01, -8.52297352e-01, -8.50735516e-01,\n",
       "         -8.47035481e-01, -8.28106703e-01, -8.24040192e-01, -8.22790349e-01,\n",
       "         -8.15178124e-01, -8.06174637e-01, -8.03298317e-01, -8.01537710e-01,\n",
       "         -7.96925350e-01, -7.87768846e-01, -7.72837764e-01, -7.68820186e-01,\n",
       "         -7.63279045e-01, -7.61863309e-01, -7.28680889e-01, -7.21026789e-01,\n",
       "         -7.12068002e-01, -7.10114921e-01, -7.06020664e-01, -7.03519703e-01,\n",
       "         -6.84874375e-01, -6.72617385e-01, -6.39494526e-01, -6.32474669e-01,\n",
       "         -6.23438796e-01, -6.23173569e-01, -6.09157103e-01, -6.01127742e-01,\n",
       "         -5.90049762e-01, -5.76705423e-01, -5.75230550e-01, -5.65531846e-01,\n",
       "         -5.62675017e-01, -5.57053906e-01, -5.54419861e-01, -5.52655080e-01,\n",
       "         -5.49077801e-01, -5.25632793e-01, -5.08818685e-01, -4.97013967e-01,\n",
       "         -4.94492680e-01, -4.94157521e-01, -4.91876556e-01, -4.90732964e-01,\n",
       "         -4.79535687e-01, -4.65035052e-01, -4.64331756e-01, -4.63043654e-01,\n",
       "         -4.51370270e-01, -4.49499248e-01, -4.43602964e-01, -4.37599272e-01,\n",
       "         -4.33531617e-01, -4.25676296e-01, -4.15038212e-01, -4.04690825e-01,\n",
       "         -4.02682848e-01, -3.90928516e-01, -3.81207208e-01, -3.79939019e-01,\n",
       "         -3.76862689e-01, -3.68000090e-01, -3.66435240e-01, -3.26725726e-01,\n",
       "         -3.26019160e-01, -3.19893487e-01, -3.12341814e-01, -3.08092057e-01,\n",
       "         -3.04369401e-01, -3.03202545e-01, -3.00132694e-01, -2.91328527e-01,\n",
       "         -2.90275761e-01, -2.62930840e-01, -2.53240023e-01, -2.35913343e-01,\n",
       "         -2.35316322e-01, -2.23303965e-01, -2.05635373e-01, -1.90888130e-01,\n",
       "         -1.88447595e-01, -1.85206440e-01, -1.82542288e-01, -1.81332921e-01,\n",
       "         -1.76707194e-01, -1.75408556e-01, -1.75386026e-01, -1.38672554e-01,\n",
       "         -1.35184321e-01, -1.32260995e-01, -1.32025964e-01, -1.29645382e-01,\n",
       "         -1.13809847e-01, -1.12637158e-01, -1.08017152e-01, -1.02145441e-01,\n",
       "         -9.56929556e-02, -9.54048887e-02, -8.53099720e-02, -8.40830016e-02,\n",
       "         -7.78273735e-02, -7.56038839e-02, -7.38986998e-02, -7.34264969e-02,\n",
       "         -6.12704830e-02, -2.50469388e-02, -2.12094934e-02, -1.55124800e-02,\n",
       "         -1.32373578e-02, -6.70508834e-03, -1.30978698e-03,  1.94840457e-02,\n",
       "          2.84561930e-02,  3.80218548e-02,  5.60630568e-02,  5.71262690e-02,\n",
       "          6.33431505e-02,  7.00755925e-02,  7.98679459e-02,  8.62944438e-02,\n",
       "          8.64349990e-02,  9.12962559e-02,  9.50906957e-02,  9.89446957e-02,\n",
       "          1.01478439e-01,  1.05293633e-01,  1.25040904e-01,  1.49059015e-01,\n",
       "          1.49531059e-01,  1.55039797e-01,  1.58401875e-01,  1.61076363e-01,\n",
       "          1.62915916e-01,  1.65922621e-01,  1.67662428e-01,  1.70520150e-01,\n",
       "          1.86999049e-01,  2.05344720e-01,  2.11495262e-01,  2.12149529e-01,\n",
       "          2.22602906e-01,  2.23016168e-01,  2.27893355e-01,  2.38004435e-01,\n",
       "          2.45159397e-01,  2.53301628e-01,  2.58249598e-01,  2.59401705e-01,\n",
       "          2.62823971e-01,  2.92288135e-01,  2.94312054e-01,  3.01792427e-01,\n",
       "          3.04789271e-01,  3.07761824e-01,  3.10750232e-01,  3.18608478e-01,\n",
       "          3.36140664e-01,  3.38220035e-01,  3.54709413e-01,  3.68745735e-01,\n",
       "          3.73867996e-01,  4.04241043e-01,  4.38555797e-01,  4.50793344e-01,\n",
       "          4.52634447e-01,  4.55960834e-01,  4.68330212e-01,  4.70104514e-01,\n",
       "          4.72665268e-01,  4.83499272e-01,  4.88001589e-01,  4.90748442e-01,\n",
       "          4.90804196e-01,  4.92401919e-01,  5.31566369e-01,  5.32132459e-01,\n",
       "          5.32541587e-01,  5.35761910e-01,  5.55763030e-01,  5.64231863e-01,\n",
       "          5.69537111e-01,  5.72634390e-01,  5.77037544e-01,  5.81703681e-01,\n",
       "          5.82064941e-01,  6.04915786e-01,  6.11645206e-01,  6.13483980e-01,\n",
       "          6.23179740e-01,  6.34926616e-01,  6.35110340e-01,  6.41765679e-01,\n",
       "          6.42043835e-01,  6.57984408e-01,  6.60734897e-01,  6.88150798e-01,\n",
       "          6.93851618e-01,  7.09112912e-01,  7.13114310e-01,  7.17298132e-01,\n",
       "          7.27463339e-01,  7.38434452e-01,  7.40409235e-01,  7.58104995e-01,\n",
       "          7.63640160e-01,  7.68844872e-01,  7.70433514e-01,  7.84559217e-01,\n",
       "          7.92752501e-01,  8.18192499e-01,  8.20294203e-01,  8.38974146e-01,\n",
       "          8.45677856e-01,  8.59714064e-01,  8.62127680e-01,  8.63123575e-01,\n",
       "          8.70106066e-01,  8.76805644e-01,  9.03110816e-01,  9.04926931e-01,\n",
       "          9.09834919e-01,  9.20160860e-01,  9.20747381e-01,  9.47233877e-01,\n",
       "          9.53170864e-01,  9.62568680e-01,  9.72648903e-01,  9.77165756e-01,\n",
       "          9.91486098e-01,  9.92527983e-01,  1.00190706e+00,  1.00456874e+00,\n",
       "          1.01462885e+00,  1.02809471e+00,  1.03679653e+00,  1.06020029e+00,\n",
       "          1.06961603e+00,  1.09736285e+00,  1.09865190e+00,  1.09930971e+00,\n",
       "          1.10397700e+00,  1.11785573e+00,  1.11970585e+00,  1.12869457e+00,\n",
       "          1.13297471e+00,  1.16234707e+00,  1.17004621e+00,  1.17247911e+00,\n",
       "          1.18906312e+00,  1.19547932e+00,  1.19737627e+00,  1.20271288e+00,\n",
       "          1.21075214e+00,  1.23488975e+00,  1.23775165e+00,  1.24228064e+00,\n",
       "          1.25415759e+00,  1.26057828e+00,  1.26696547e+00,  1.28400061e+00,\n",
       "          1.28737177e+00,  1.30779513e+00,  1.31506717e+00,  1.33622142e+00,\n",
       "          1.34515698e+00,  1.36015378e+00,  1.36076256e+00,  1.37386604e+00,\n",
       "          1.37967833e+00,  1.39153752e+00,  1.40739925e+00,  1.40888054e+00,\n",
       "          1.41030720e+00,  1.41308446e+00,  1.43049362e+00,  1.44259015e+00,\n",
       "          1.44640876e+00,  1.46701885e+00,  1.46779478e+00,  1.50333922e+00,\n",
       "          1.55535731e+00,  1.55739882e+00,  1.57174070e+00,  1.60109909e+00,\n",
       "          1.60583918e+00,  1.63921957e+00,  1.69765592e+00,  1.70060477e+00,\n",
       "          1.70513212e+00,  1.74237425e+00,  1.74267169e+00,  1.75562127e+00,\n",
       "          1.80808544e+00,  1.81323954e+00,  1.83912911e+00,  1.90028432e+00,\n",
       "          1.91388398e+00,  1.91931069e+00,  1.92923446e+00,  1.92976580e+00,\n",
       "          1.93909579e+00,  1.95077838e+00,  1.96903719e+00,  2.01254418e+00,\n",
       "          2.02341246e+00,  2.03769907e+00,  2.07813083e+00,  2.08616655e+00,\n",
       "          2.09055114e+00,  2.09076785e+00,  2.10068694e+00,  2.10571650e+00,\n",
       "          2.11418865e+00,  2.11528378e+00,  2.13558122e+00,  2.14963621e+00,\n",
       "          2.18090742e+00,  2.25604064e+00,  2.35426078e+00,  2.36587823e+00,\n",
       "          2.37141351e+00,  2.38526492e+00,  2.41157527e+00,  2.44122971e+00,\n",
       "          2.46793656e+00,  2.54634275e+00,  2.55758317e+00,  2.61686889e+00,\n",
       "          2.62267103e+00,  2.66340758e+00,  2.81899162e+00,  2.83729614e+00,\n",
       "          2.92617687e+00,  2.99096392e+00,  3.00602803e+00,  3.05834279e+00,\n",
       "          3.13735959e+00,  3.35677054e+00,  3.47240486e+00,  3.52163803e+00,\n",
       "          3.56267921e+00,  3.58920354e+00,  3.85815408e+00,  3.90857977e+00,\n",
       "          4.04359986e+00,  4.15845994e+00,  4.27382706e+00,  4.35116757e+00,\n",
       "          4.81232611e+00,  5.17466882e+00,  5.50032583e+00,  5.60164861e+00,\n",
       "          5.83187204e+00,  6.22457661e+00,  6.90424094e+00])),\n",
       " (1.7272902398948387, -0.0001473577020524827, 0.989495314923792))"
      ]
     },
     "execution_count": 9,
     "metadata": {},
     "output_type": "execute_result"
    },
    {
     "data": {
      "image/png": "[encoded data removed]",
      "text/plain": [
       "<Figure size 432x288 with 1 Axes>"
      ]
     },
     "metadata": {
      "needs_background": "light"
     },
     "output_type": "display_data"
    }
   ],
   "source": [
    "col = df['col1']\n",
    "col = np.diff(np.log(col[col>0]))\n",
    "fig, ax = plt.subplots()\n",
    "stats.probplot(col, plot=ax)"
   ]
  },
  {
   "cell_type": "markdown",
   "metadata": {},
   "source": [
    "긴 꼬리 분포는 QQ plot에 비해 낮은 값의 점들은 대각선보다 훨씬 아래에, 높은 값은 선보다 훨씬 위에 위치한다. 이는 데이터가 정규분포를 따르지 않는다는 것을 의미한다. 또한 이는 데이터가 정규분포를 따른다고 할 때는 많은 극단값을 관찰할 가능성이 있다. 또한 평균에서 표준편차 이내에 있는 데이터의 점들은 선에 가까이 위치한다. "
   ]
  },
  {
   "cell_type": "markdown",
   "metadata": {},
   "source": [
    "## 2-8.t 분포\n",
    "t 분포는 정규분포와 생김새가 비슷하지만, 꼬리 부분이 약간 더 두껍고 길다. t 분포는 표본통계량의 분포를 설명하는데 사용된다. 표본평균의 분포는 일반적으로 t 분포와 같은 모양이며, 표본이 클수록 더 정규분포를 닮은 t 분포가 형성된다. \n",
    "- n: 표본크기\n",
    "- 자유도: 다른 표본크기, 통계량, 그룹의 수에 따라 t 분포를 조절하는 변수\n",
    "\n",
    "윌리엄 고셋이 더 큰 모집단에서 추출한 표본평균의 표본분포는 무엇인가라는 질문의 답을 찾기 위해 x축에 표준화된 결과(z score)를 y축에 빈도를 나타내는 도표를 만들어냈다.   \n",
    "표준화된 여러 통계 자료를 t 분포와 비교하여 신뢰구간을 추정할 수 있다. 표본평균이 $\\bar x$인 크기 n의 표본이 있을 때, s가 표본표준편차라면, 표본평균 주위의 90% 신뢰구간은 아래와 같다. \n",
    "$$\\bar{x}\\pm t_{n-1}(0.05)*\\frac{s}{}\\sqrt{n}$$\n",
    "여기서 $t_{n-1}(0.05)$는 (n-1) 자유도를 갖는 t 분포의 양쪽 끝에서 5%를 잘라내는 t 통계량을 의미한다. "
   ]
  },
  {
   "cell_type": "markdown",
   "metadata": {},
   "source": [
    "## 2-9.이항분포\n",
    "이항분포를 이해할 때 핵심은 일련의 시행들이라는 아이디어인데, 각 시행은 정해진 확률로 두 가지 결과를 갖는다. \n",
    "- 시행: 독립된 결과를 가져오는 하나의 사건\n",
    "- 성공: 시행에 대한 관심의 결과\n",
    "- 이항식: 두 가지 결과를 갖는다.\n",
    "- 이항시행: 두 가지 결과를 가져오는 시행\n",
    "- 이행분포: n번 시행에서 성공한 횟수에 대한 분포\n",
    "\n",
    "이항분포란 각 시행마다 성공 확률(p)이 정해져 있을 때, 주어진 시행 횟수(n) 중에서 성공한 횟수(x)의 도수분포를 의미한다. "
   ]
  },
  {
   "cell_type": "code",
   "execution_count": 10,
   "metadata": {},
   "outputs": [
    {
     "data": {
      "text/plain": [
       "0.99144"
      ]
     },
     "execution_count": 10,
     "metadata": {},
     "output_type": "execute_result"
    }
   ],
   "source": [
    "from scipy import stats\n",
    "\n",
    "stats.binom.pmf(2, n=5, p=0.1)\n",
    "stats.binom.cdf(2, n=5, p=0.1)"
   ]
  },
  {
   "cell_type": "markdown",
   "metadata": {},
   "source": [
    "이항분포의 평균은 n*p이다. 성공 확률=p인 경우, n번의 시행에서 예쌍되는 성공 횟수로 생각할 수도 있다. \n",
    "\n",
    "분산은 x*p(1-p)이다. 시행 횟수가 충분할 경우 이항분포는 사실상 정규분포와 구별이 어렵다. 표본크기가 커질수록 이항 확률을 구하기 위해선 많은 계산이 필요하므로, 대부분의 통계 절차에선 평균과 분산으로 근사화한 정규분포를 사용한다. "
   ]
  },
  {
   "cell_type": "markdown",
   "metadata": {},
   "source": [
    "## 2-10.카이제곱분포\n",
    "통계학에서 중요한 개념에는 범주의 수에 대해 기댓값에서 이털하는 것이 있다. 기댓값이란 특이하고 주목할 만한 것이 없다(예측 가능한 패턴 사이에 상관관계가 없다.)는 의미로 정의할 수 있다. 이를 귀무가설(귀무모델)이라고도 한다.   \n",
    "카이곱젝곱통계량은 검정 결과가 독립성에 대한 귀무 기댓값에서 벗어난 정도를 측정하는 통계량이다. 더 일반적으로 카이제곱통계량은 관측 데이터가 특정 분포에 적합한 정도를 나타낸다.  \n",
    "카이제곱분포는 귀무가설에서 반복적으로 재표본추출한 통계량 분포다. 개수 집합에 대해 카이제곱 값이 낮다는 것은 기대 분포를 거의 따르고 있음을 나타내고, 높은 것은 기대한 것과 현저히 다르다는 것을 의미한다. \n"
   ]
  },
  {
   "cell_type": "markdown",
   "metadata": {},
   "source": [
    "## 2-11.F 분포\n",
    "그룹 평균 간의 차이가 정규 무작위 변동에서 예상할 수 있는 것보다 얼마나 큰지 알고싶을 때(밭에 구역별로 다른 비료를 사용), F통계량은 이를 측정하는 것이고, 각 그룹 내 변동성에 대한 그룹 평균 간 변동성의 비율을 의미한다. 이러한 비교를 분산분석(ANOVA)이라고 한다.   \n",
    "F통계량의 분포는 모든 그룹의 평균이 동일한 경우(귀무모델) 무작위 순열 데이터에 의해 생성되는 모든 값의 빈도 분포다. "
   ]
  },
  {
   "cell_type": "markdown",
   "metadata": {},
   "source": [
    "## 2-12.분포들\n",
    "- lambda: 단위 시간이나 단위 면적당 사건이 발생하는 비율\n",
    "- 푸아송 분포: 표집된 단위 시간 혹은 단위 공간에서 발생한 사건의 도수분포  \n",
    "푸아송 분포는 시간 단위 또는 공간 단위로 표본들을 수집할 때, 그 사건들의 분포를 알려준다. \n",
    "- 지수분포: 한 사건에서 그다음 사건까지의 시간이나 거리에 대한 도수분포  \n",
    "- 베이불 분포: 사건 발생률이 시간에 따라 변화하는 지수분포의 일반화된 버전\n",
    "사건발생률이 시간에 따라 지속적으로 변환다면 지수, 푸아송분포는 더는 유용하지 않다. 베이풀 분포는 지수분포의 확장으로 형상 파라미터 $\\beta$로 지정된 대로 발생률이 달라질 수 있다. $\\beta>1$의 경우 발생률은 시간이 지남에 따라 증가하며 $\\beta<1$이면 감소한다. "
   ]
  }
 ],
 "metadata": {
  "interpreter": {
   "hash": "7bcc2250d2c768ac5e86847e4dcc0c989ec66ae9cbfbad130057c86246b226f2"
  },
  "kernelspec": {
   "display_name": "Python 3.8.8 64-bit ('ds': conda)",
   "name": "python3"
  },
  "language_info": {
   "codemirror_mode": {
    "name": "ipython",
    "version": 3
   },
   "file_extension": ".py",
   "mimetype": "text/x-python",
   "name": "python",
   "nbconvert_exporter": "python",
   "pygments_lexer": "ipython3",
   "version": "3.8.8"
  }
 },
 "nbformat": 4,
 "nbformat_minor": 5
}
