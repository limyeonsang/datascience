{
 "cells": [
  {
   "cell_type": "markdown",
   "id": "9cb04ec4",
   "metadata": {},
   "source": [
    "# 2.데이터와 표본분포\n",
    "\n",
    "<img src=\"https://yurimkoo.github.io/assets/img/data-and-sample-distribution/1.png\" width=\"200\">  \n",
    "그림의 왼편은 통계학에서 표본분포를 따를 것으로 추정되는 미지의 모집단이다. 하지만 우리가 유일하게 사용할 수 있는 것은 오른쪽에 있는 표시된 표본 데이터이다. 모집단에서 표본을 얻어내는 것이 표본추출이다. "
   ]
  },
  {
   "cell_type": "markdown",
   "id": "494d71c3",
   "metadata": {},
   "source": [
    "## 2-1.임의표본추출과 표본편향\n",
    "- 표본sample: 더 큰 데이터 집합으로부터 얻은 부분집합\n",
    "- 모집단population: 어떤 데이터 집합을 구성하는 전체 대상 혹은 전체 집합\n",
    "- 임의표본추출random sampling: 무작위로 표본을 추출\n",
    "    - 단순임의표본: 임의표본추출의 결과로 얻은 샘플\n",
    "- with replacement:추첨 후, 중복 추출이 가능하도록 해당 샘플을 다시 모집단에 포함시킨다.\n",
    "- without replacement: 그 반대\n",
    "- 층화표본추출stratified sampling: 모집단을 층으로 나눈 뒤, 각 층에서 무작위로 표본을 추출\n",
    "- 계층stratum: 공통된 특징을 가진 모집단의 동종 하위 그룹\n",
    "- 표본편향sample bias: 모집단을 잘못 대표하는 표본\n",
    "샘플 기반의 추정이나 모델링에선, 데이터 품질이 양보다 중요하다. 통계는 여기에 대표성representativeness이라는 개념을 추가한다. "
   ]
  },
  {
   "cell_type": "markdown",
   "id": "6bc9c1f8",
   "metadata": {},
   "source": [
    "### 2-1-1.임의 선택\n",
    "표본편향 문제 해결을 위해 대표성을 담보하는 방법은 여러 가지가 있지만, 핵심은 임의표본추출이다. 좋은 임의표본추출을 위해선 접근 가능한 모집단을 적절히 정의하는게 중요하다.  \n",
    "그 뒤 표본추출 기준을 정해야한다. 무작위로 100명 혹은 유동적인 상황(웹 방문자)이라면 "
   ]
  }
 ],
 "metadata": {
  "kernelspec": {
   "display_name": "Python 3",
   "language": "python",
   "name": "python3"
  },
  "language_info": {
   "codemirror_mode": {
    "name": "ipython",
    "version": 3
   },
   "file_extension": ".py",
   "mimetype": "text/x-python",
   "name": "python",
   "nbconvert_exporter": "python",
   "pygments_lexer": "ipython3",
   "version": "3.8.8"
  }
 },
 "nbformat": 4,
 "nbformat_minor": 5
}
